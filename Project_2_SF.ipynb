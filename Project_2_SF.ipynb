{
 "cells": [
  {
   "cell_type": "markdown",
   "id": "42289889-bd57-434e-9637-d3e354756316",
   "metadata": {
    "id": "42289889-bd57-434e-9637-d3e354756316"
   },
   "source": [
    "<center> <img src = https://raw.githubusercontent.com/AndreyRysistov/DatasetsForPandas/main/hh%20label.jpg alt=\"drawing\" style=\"width:400px;\">"
   ]
  },
  {
   "cell_type": "markdown",
   "id": "829cb75b-f14e-4ba8-9195-7ba929a7d656",
   "metadata": {
    "id": "829cb75b-f14e-4ba8-9195-7ba929a7d656",
    "tags": []
   },
   "source": [
    "# <center> Проект: Анализ вакансий из HeadHunter\n",
    "   "
   ]
  },
  {
   "cell_type": "code",
   "execution_count": 331,
   "id": "dccfde33-2452-43fb-a8a5-5c6ebc02a71d",
   "metadata": {
    "id": "dccfde33-2452-43fb-a8a5-5c6ebc02a71d"
   },
   "outputs": [],
   "source": [
    "# импорт необходимых библиотек, требующихся для выполнения всех заданий\n",
    "# выключение предупреждений (предупреждение о том, что pandas поддерживает только SQLAlchemy connectable (engine/connection) или URL-адрес строки базы данных или подключение sqlite3 DBAPI2)\n",
    "import pandas as pd\n",
    "import psycopg2\n",
    "import warnings\n",
    "warnings.filterwarnings('ignore')"
   ]
  },
  {
   "cell_type": "code",
   "execution_count": 1,
   "id": "oVKH4ehvf8Ay",
   "metadata": {
    "id": "oVKH4ehvf8Ay"
   },
   "outputs": [],
   "source": [
    "DBNAME = 'KA'\n",
    "USER = 'PI'\n",
    "PASSWORD = 'BA'\n",
    "HOST = 'RA'\n",
    "PORT = 'не скажу'"
   ]
  },
  {
   "cell_type": "code",
   "execution_count": 333,
   "id": "G4X_q8KBf7SF",
   "metadata": {
    "id": "G4X_q8KBf7SF"
   },
   "outputs": [],
   "source": [
    "connection = psycopg2.connect(\n",
    "    dbname=DBNAME,\n",
    "    user=USER,\n",
    "    host=HOST,\n",
    "    password=PASSWORD,\n",
    "    port=PORT\n",
    ")"
   ]
  },
  {
   "cell_type": "markdown",
   "id": "0dc6476b-7a00-44f1-ac93-6e3baed33a29",
   "metadata": {
    "id": "0dc6476b-7a00-44f1-ac93-6e3baed33a29"
   },
   "source": [
    "# Юнит 3. Предварительный анализ данных"
   ]
  },
  {
   "cell_type": "markdown",
   "id": "889782b6-8d1c-410e-8920-e57f27917c64",
   "metadata": {
    "id": "889782b6-8d1c-410e-8920-e57f27917c64"
   },
   "source": [
    "1. Напишите запрос, который посчитает количество вакансий в нашей базе (вакансии находятся в таблице vacancies). "
   ]
  },
  {
   "cell_type": "code",
   "execution_count": 334,
   "id": "bc39e68e-ed02-4ee2-9235-7258a2f867a8",
   "metadata": {
    "id": "bc39e68e-ed02-4ee2-9235-7258a2f867a8"
   },
   "outputs": [],
   "source": [
    "# текст запроса\n",
    "query_3_1 = f'''SELECT \n",
    "                    COUNT(id) vacancies\n",
    "                FROM \n",
    "                    vacancies\n",
    "'''"
   ]
  },
  {
   "cell_type": "code",
   "execution_count": 335,
   "id": "7mAwtsk4hEHY",
   "metadata": {
    "id": "7mAwtsk4hEHY"
   },
   "outputs": [
    {
     "data": {
      "text/html": [
       "<div>\n",
       "<style scoped>\n",
       "    .dataframe tbody tr th:only-of-type {\n",
       "        vertical-align: middle;\n",
       "    }\n",
       "\n",
       "    .dataframe tbody tr th {\n",
       "        vertical-align: top;\n",
       "    }\n",
       "\n",
       "    .dataframe thead th {\n",
       "        text-align: right;\n",
       "    }\n",
       "</style>\n",
       "<table border=\"1\" class=\"dataframe\">\n",
       "  <thead>\n",
       "    <tr style=\"text-align: right;\">\n",
       "      <th></th>\n",
       "      <th>vacancies</th>\n",
       "    </tr>\n",
       "  </thead>\n",
       "  <tbody>\n",
       "    <tr>\n",
       "      <th>0</th>\n",
       "      <td>49197</td>\n",
       "    </tr>\n",
       "  </tbody>\n",
       "</table>\n",
       "</div>"
      ],
      "text/plain": [
       "   vacancies\n",
       "0      49197"
      ]
     },
     "execution_count": 335,
     "metadata": {},
     "output_type": "execute_result"
    }
   ],
   "source": [
    "# результат запроса\n",
    "quantity_vacancies = pd.read_sql_query(query_3_1, connection)\n",
    "quantity_vacancies"
   ]
  },
  {
   "cell_type": "markdown",
   "id": "b583485d-1f9e-494e-ada4-80ffff7c53d6",
   "metadata": {
    "id": "b583485d-1f9e-494e-ada4-80ffff7c53d6"
   },
   "source": [
    "2. Напишите запрос, который посчитает количество работодателей (таблица employers). "
   ]
  },
  {
   "cell_type": "code",
   "execution_count": 336,
   "id": "5408c52c-3407-4a63-b25b-1aafa2322d28",
   "metadata": {
    "id": "5408c52c-3407-4a63-b25b-1aafa2322d28"
   },
   "outputs": [],
   "source": [
    "# текст запроса\n",
    "query_3_2 = f'''SELECT \n",
    "                    COUNT(id) employers\n",
    "                FROM \n",
    "                    employers\n",
    "             '''"
   ]
  },
  {
   "cell_type": "code",
   "execution_count": 337,
   "id": "jVL4eshKhdqc",
   "metadata": {
    "id": "jVL4eshKhdqc"
   },
   "outputs": [
    {
     "data": {
      "text/html": [
       "<div>\n",
       "<style scoped>\n",
       "    .dataframe tbody tr th:only-of-type {\n",
       "        vertical-align: middle;\n",
       "    }\n",
       "\n",
       "    .dataframe tbody tr th {\n",
       "        vertical-align: top;\n",
       "    }\n",
       "\n",
       "    .dataframe thead th {\n",
       "        text-align: right;\n",
       "    }\n",
       "</style>\n",
       "<table border=\"1\" class=\"dataframe\">\n",
       "  <thead>\n",
       "    <tr style=\"text-align: right;\">\n",
       "      <th></th>\n",
       "      <th>employers</th>\n",
       "    </tr>\n",
       "  </thead>\n",
       "  <tbody>\n",
       "    <tr>\n",
       "      <th>0</th>\n",
       "      <td>23501</td>\n",
       "    </tr>\n",
       "  </tbody>\n",
       "</table>\n",
       "</div>"
      ],
      "text/plain": [
       "   employers\n",
       "0      23501"
      ]
     },
     "execution_count": 337,
     "metadata": {},
     "output_type": "execute_result"
    }
   ],
   "source": [
    "# результат запроса\n",
    "quantity_employers = pd.read_sql_query(query_3_2, connection)\n",
    "quantity_employers"
   ]
  },
  {
   "cell_type": "markdown",
   "id": "a2bfff1f-c975-4bf6-84be-2185d79dcb76",
   "metadata": {
    "id": "a2bfff1f-c975-4bf6-84be-2185d79dcb76"
   },
   "source": [
    "3. Посчитате с помощью запроса количество регионов (таблица areas)."
   ]
  },
  {
   "cell_type": "code",
   "execution_count": 338,
   "id": "1m8QJwBYhey6",
   "metadata": {
    "id": "1m8QJwBYhey6"
   },
   "outputs": [],
   "source": [
    "# текст запроса\n",
    "query_3_3 = f'''SELECT \n",
    "                    COUNT(id) areas\n",
    "                FROM \n",
    "                    areas\n",
    "                '''"
   ]
  },
  {
   "cell_type": "code",
   "execution_count": 339,
   "id": "EZsn9tlfhe7f",
   "metadata": {
    "id": "EZsn9tlfhe7f"
   },
   "outputs": [
    {
     "data": {
      "text/html": [
       "<div>\n",
       "<style scoped>\n",
       "    .dataframe tbody tr th:only-of-type {\n",
       "        vertical-align: middle;\n",
       "    }\n",
       "\n",
       "    .dataframe tbody tr th {\n",
       "        vertical-align: top;\n",
       "    }\n",
       "\n",
       "    .dataframe thead th {\n",
       "        text-align: right;\n",
       "    }\n",
       "</style>\n",
       "<table border=\"1\" class=\"dataframe\">\n",
       "  <thead>\n",
       "    <tr style=\"text-align: right;\">\n",
       "      <th></th>\n",
       "      <th>areas</th>\n",
       "    </tr>\n",
       "  </thead>\n",
       "  <tbody>\n",
       "    <tr>\n",
       "      <th>0</th>\n",
       "      <td>1362</td>\n",
       "    </tr>\n",
       "  </tbody>\n",
       "</table>\n",
       "</div>"
      ],
      "text/plain": [
       "   areas\n",
       "0   1362"
      ]
     },
     "execution_count": 339,
     "metadata": {},
     "output_type": "execute_result"
    }
   ],
   "source": [
    "# результат запроса\n",
    "quantity_areas = pd.read_sql_query(query_3_3, connection)\n",
    "quantity_areas"
   ]
  },
  {
   "cell_type": "markdown",
   "id": "41bb59f3-53cc-4a67-a5bc-bedf573955e4",
   "metadata": {
    "id": "41bb59f3-53cc-4a67-a5bc-bedf573955e4"
   },
   "source": [
    "4. Посчитате с помощью запроса количество сфер деятельности в базе (таблица industries)."
   ]
  },
  {
   "cell_type": "code",
   "execution_count": 340,
   "id": "d286cf4c-707b-4cd2-9190-7ab3587d04a1",
   "metadata": {
    "id": "d286cf4c-707b-4cd2-9190-7ab3587d04a1"
   },
   "outputs": [],
   "source": [
    "# текст запроса\n",
    "query_3_4 = f'''SELECT\n",
    "                    COUNT(id) industries\n",
    "                FROM\n",
    "                    industries\n",
    "                '''"
   ]
  },
  {
   "cell_type": "code",
   "execution_count": 341,
   "id": "JYAaoZ4qhfzW",
   "metadata": {
    "id": "JYAaoZ4qhfzW"
   },
   "outputs": [
    {
     "data": {
      "text/html": [
       "<div>\n",
       "<style scoped>\n",
       "    .dataframe tbody tr th:only-of-type {\n",
       "        vertical-align: middle;\n",
       "    }\n",
       "\n",
       "    .dataframe tbody tr th {\n",
       "        vertical-align: top;\n",
       "    }\n",
       "\n",
       "    .dataframe thead th {\n",
       "        text-align: right;\n",
       "    }\n",
       "</style>\n",
       "<table border=\"1\" class=\"dataframe\">\n",
       "  <thead>\n",
       "    <tr style=\"text-align: right;\">\n",
       "      <th></th>\n",
       "      <th>industries</th>\n",
       "    </tr>\n",
       "  </thead>\n",
       "  <tbody>\n",
       "    <tr>\n",
       "      <th>0</th>\n",
       "      <td>294</td>\n",
       "    </tr>\n",
       "  </tbody>\n",
       "</table>\n",
       "</div>"
      ],
      "text/plain": [
       "   industries\n",
       "0         294"
      ]
     },
     "execution_count": 341,
     "metadata": {},
     "output_type": "execute_result"
    }
   ],
   "source": [
    "# результат запроса\n",
    "quantity_industries=pd.read_sql_query(query_3_4, connection)\n",
    "quantity_industries"
   ]
  },
  {
   "cell_type": "markdown",
   "id": "9a8a2181-6914-448b-85f1-38f5f18b8a93",
   "metadata": {
    "id": "9a8a2181-6914-448b-85f1-38f5f18b8a93"
   },
   "source": [
    "***"
   ]
  },
  {
   "cell_type": "markdown",
   "id": "f7312ab1-874b-4444-a177-ce48776f192f",
   "metadata": {
    "id": "be4e9bd3-a4db-4a20-82fb-6b02fc2957e0"
   },
   "source": [
    "выводы по предварительному анализу данных.\n",
    "\n",
    "- количество вакансий.\n",
    "- количество работодателей.\n",
    "- количество регеонов.\n",
    "- сфер деятельности."
   ]
  },
  {
   "cell_type": "markdown",
   "id": "8d62a9f3-f64e-4fe7-bdac-c4dffa16155e",
   "metadata": {
    "id": "8d62a9f3-f64e-4fe7-bdac-c4dffa16155e"
   },
   "source": [
    "# Юнит 4. Детальный анализ вакансий"
   ]
  },
  {
   "cell_type": "markdown",
   "id": "93053d3d-b284-481a-9cf7-012d7014c0e0",
   "metadata": {
    "id": "93053d3d-b284-481a-9cf7-012d7014c0e0"
   },
   "source": [
    "1. Напишите запрос, который позволит узнать, сколько (cnt) вакансий в каждом регионе (area).\n",
    "Отсортируйте по количеству вакансий в порядке убывания."
   ]
  },
  {
   "cell_type": "code",
   "execution_count": 342,
   "id": "3f069da6-fdc9-4ae7-b514-fafe2675efd3",
   "metadata": {
    "id": "3f069da6-fdc9-4ae7-b514-fafe2675efd3"
   },
   "outputs": [],
   "source": [
    "# текст запроса\n",
    "query_4_1 = f'''SELECT\n",
    "                    a.name,\n",
    "                    COUNT(v.id) cnt -- подстчет количества по id вакансий\n",
    "                FROM\n",
    "                    vacancies v\n",
    "                    LEFT JOIN areas a ON v.area_id = a.id -- получаем названия регионов для таблицы с вакансиями\n",
    "                GROUP BY a.name -- группируем по регионам\n",
    "                ORDER BY cnt DESC \n",
    "             '''"
   ]
  },
  {
   "cell_type": "code",
   "execution_count": 343,
   "id": "P7QL86hrjhRJ",
   "metadata": {
    "id": "P7QL86hrjhRJ"
   },
   "outputs": [
    {
     "data": {
      "text/html": [
       "<div>\n",
       "<style scoped>\n",
       "    .dataframe tbody tr th:only-of-type {\n",
       "        vertical-align: middle;\n",
       "    }\n",
       "\n",
       "    .dataframe tbody tr th {\n",
       "        vertical-align: top;\n",
       "    }\n",
       "\n",
       "    .dataframe thead th {\n",
       "        text-align: right;\n",
       "    }\n",
       "</style>\n",
       "<table border=\"1\" class=\"dataframe\">\n",
       "  <thead>\n",
       "    <tr style=\"text-align: right;\">\n",
       "      <th></th>\n",
       "      <th>name</th>\n",
       "      <th>cnt</th>\n",
       "    </tr>\n",
       "  </thead>\n",
       "  <tbody>\n",
       "    <tr>\n",
       "      <th>0</th>\n",
       "      <td>Москва</td>\n",
       "      <td>5333</td>\n",
       "    </tr>\n",
       "    <tr>\n",
       "      <th>1</th>\n",
       "      <td>Санкт-Петербург</td>\n",
       "      <td>2851</td>\n",
       "    </tr>\n",
       "    <tr>\n",
       "      <th>2</th>\n",
       "      <td>Минск</td>\n",
       "      <td>2112</td>\n",
       "    </tr>\n",
       "    <tr>\n",
       "      <th>3</th>\n",
       "      <td>Новосибирск</td>\n",
       "      <td>2006</td>\n",
       "    </tr>\n",
       "    <tr>\n",
       "      <th>4</th>\n",
       "      <td>Алматы</td>\n",
       "      <td>1892</td>\n",
       "    </tr>\n",
       "  </tbody>\n",
       "</table>\n",
       "</div>"
      ],
      "text/plain": [
       "              name   cnt\n",
       "0           Москва  5333\n",
       "1  Санкт-Петербург  2851\n",
       "2            Минск  2112\n",
       "3      Новосибирск  2006\n",
       "4           Алматы  1892"
      ]
     },
     "execution_count": 343,
     "metadata": {},
     "output_type": "execute_result"
    }
   ],
   "source": [
    "# результат запроса\n",
    "area_vacancies = pd.read_sql_query(query_4_1, connection)\n",
    "area_vacancies.head()"
   ]
  },
  {
   "cell_type": "markdown",
   "id": "4266f0b6-1646-492a-88b4-2f6a46502135",
   "metadata": {
    "id": "4266f0b6-1646-492a-88b4-2f6a46502135"
   },
   "source": [
    "2. Напишите запрос, чтобы определить у какого количества вакансий заполнено хотя бы одно из двух полей с зарплатой."
   ]
  },
  {
   "cell_type": "code",
   "execution_count": 344,
   "id": "0c44b350-72eb-4d65-8b54-a1fc449ba9fd",
   "metadata": {
    "id": "0c44b350-72eb-4d65-8b54-a1fc449ba9fd"
   },
   "outputs": [],
   "source": [
    "# текст запроса\n",
    "query_4_2 = f'''SELECT\n",
    "                    COUNT(id)\n",
    "                FROM\n",
    "                    vacancies \n",
    "                WHERE\n",
    "                    salary_from IS NOT NULL OR salary_to IS NOT NULL -- заполнено хотя бы одно поле с зарплатой \n",
    "             '''"
   ]
  },
  {
   "cell_type": "code",
   "execution_count": 345,
   "id": "rhvwaMDkoWTi",
   "metadata": {
    "id": "rhvwaMDkoWTi"
   },
   "outputs": [
    {
     "data": {
      "text/html": [
       "<div>\n",
       "<style scoped>\n",
       "    .dataframe tbody tr th:only-of-type {\n",
       "        vertical-align: middle;\n",
       "    }\n",
       "\n",
       "    .dataframe tbody tr th {\n",
       "        vertical-align: top;\n",
       "    }\n",
       "\n",
       "    .dataframe thead th {\n",
       "        text-align: right;\n",
       "    }\n",
       "</style>\n",
       "<table border=\"1\" class=\"dataframe\">\n",
       "  <thead>\n",
       "    <tr style=\"text-align: right;\">\n",
       "      <th></th>\n",
       "      <th>count</th>\n",
       "    </tr>\n",
       "  </thead>\n",
       "  <tbody>\n",
       "    <tr>\n",
       "      <th>0</th>\n",
       "      <td>24073</td>\n",
       "    </tr>\n",
       "  </tbody>\n",
       "</table>\n",
       "</div>"
      ],
      "text/plain": [
       "   count\n",
       "0  24073"
      ]
     },
     "execution_count": 345,
     "metadata": {},
     "output_type": "execute_result"
    }
   ],
   "source": [
    "# результат запроса\n",
    "salary_not_empty = pd.read_sql_query(query_4_2, connection)\n",
    "salary_not_empty"
   ]
  },
  {
   "cell_type": "markdown",
   "id": "635c4d5d-f323-4c66-b428-50a088120aa0",
   "metadata": {
    "id": "635c4d5d-f323-4c66-b428-50a088120aa0"
   },
   "source": [
    "3. Найдите средние значения для нижней и верхней границы зарплатной вилки. Округлите значения до целого."
   ]
  },
  {
   "cell_type": "code",
   "execution_count": 346,
   "id": "603cdbe4-0ec3-4106-8eaf-c73fcdd29165",
   "metadata": {
    "id": "603cdbe4-0ec3-4106-8eaf-c73fcdd29165"
   },
   "outputs": [],
   "source": [
    "# текст запроса\n",
    "query_4_3 = f'''SELECT\n",
    "                    ROUND(AVG(salary_from))::int avg_salary_from, -- уберем нули приведя к типу int\n",
    "                    ROUND(AVG(salary_to))::int avg_salary_to \n",
    "                FROM\n",
    "                    vacancies\n",
    "             '''"
   ]
  },
  {
   "cell_type": "code",
   "execution_count": 347,
   "id": "pswpAb66ovZZ",
   "metadata": {
    "id": "pswpAb66ovZZ"
   },
   "outputs": [
    {
     "data": {
      "text/html": [
       "<div>\n",
       "<style scoped>\n",
       "    .dataframe tbody tr th:only-of-type {\n",
       "        vertical-align: middle;\n",
       "    }\n",
       "\n",
       "    .dataframe tbody tr th {\n",
       "        vertical-align: top;\n",
       "    }\n",
       "\n",
       "    .dataframe thead th {\n",
       "        text-align: right;\n",
       "    }\n",
       "</style>\n",
       "<table border=\"1\" class=\"dataframe\">\n",
       "  <thead>\n",
       "    <tr style=\"text-align: right;\">\n",
       "      <th></th>\n",
       "      <th>avg_salary_from</th>\n",
       "      <th>avg_salary_to</th>\n",
       "    </tr>\n",
       "  </thead>\n",
       "  <tbody>\n",
       "    <tr>\n",
       "      <th>0</th>\n",
       "      <td>71065</td>\n",
       "      <td>110537</td>\n",
       "    </tr>\n",
       "  </tbody>\n",
       "</table>\n",
       "</div>"
      ],
      "text/plain": [
       "   avg_salary_from  avg_salary_to\n",
       "0            71065         110537"
      ]
     },
     "execution_count": 347,
     "metadata": {},
     "output_type": "execute_result"
    }
   ],
   "source": [
    "# результат запроса\n",
    "avg_salary = pd.read_sql_query(query_4_3, connection)\n",
    "avg_salary"
   ]
  },
  {
   "cell_type": "markdown",
   "id": "f3fdaec9-5fd3-4260-9cf5-1d7406b628a5",
   "metadata": {
    "id": "f3fdaec9-5fd3-4260-9cf5-1d7406b628a5"
   },
   "source": [
    "4. Напишите запрос, который выведет количество вакансий для каждого сочетания типа рабочего графика (schedule) и типа трудоустройства (employment), используемого в вакансиях. Результат отсортируйте по убыванию количества.\n"
   ]
  },
  {
   "cell_type": "code",
   "execution_count": 348,
   "id": "1ea710ec-871b-431e-9462-c7d0fd87011b",
   "metadata": {
    "id": "1ea710ec-871b-431e-9462-c7d0fd87011b"
   },
   "outputs": [],
   "source": [
    "# текст запроса\n",
    "query_4_4 = f'''WITH sched_employment AS ( --  основная таблица\n",
    "                    SELECT\n",
    "                        schedule, \n",
    "                        employment,                     \n",
    "                        COUNT(id) vacancies\n",
    "                    FROM\n",
    "                        vacancies \n",
    "                    GROUP BY schedule, employment -- группировка по графику, а внутри по типу занятости\n",
    "                )\n",
    "                SELECT\n",
    "                    schedule, \n",
    "                    employment,                     \n",
    "                    vacancies,\n",
    "                    ROUND(vacancies/(SELECT SUM(vacancies) FROM sched_employment)*100, 5) percent -- вычисляем процент от общего количества вакансий, сильно округлить неполучается петеряются числа около нуля\n",
    "                FROM\n",
    "                    sched_employment\n",
    "                ORDER BY vacancies DESC -- сортируем, как указано\n",
    "             '''"
   ]
  },
  {
   "cell_type": "code",
   "execution_count": 349,
   "id": "lGUVqavdo4JQ",
   "metadata": {
    "id": "lGUVqavdo4JQ"
   },
   "outputs": [
    {
     "data": {
      "text/html": [
       "<div>\n",
       "<style scoped>\n",
       "    .dataframe tbody tr th:only-of-type {\n",
       "        vertical-align: middle;\n",
       "    }\n",
       "\n",
       "    .dataframe tbody tr th {\n",
       "        vertical-align: top;\n",
       "    }\n",
       "\n",
       "    .dataframe thead th {\n",
       "        text-align: right;\n",
       "    }\n",
       "</style>\n",
       "<table border=\"1\" class=\"dataframe\">\n",
       "  <thead>\n",
       "    <tr style=\"text-align: right;\">\n",
       "      <th></th>\n",
       "      <th>schedule</th>\n",
       "      <th>employment</th>\n",
       "      <th>vacancies</th>\n",
       "      <th>percent</th>\n",
       "    </tr>\n",
       "  </thead>\n",
       "  <tbody>\n",
       "    <tr>\n",
       "      <th>0</th>\n",
       "      <td>Полный день</td>\n",
       "      <td>Полная занятость</td>\n",
       "      <td>35367</td>\n",
       "      <td>71.88853</td>\n",
       "    </tr>\n",
       "    <tr>\n",
       "      <th>1</th>\n",
       "      <td>Удаленная работа</td>\n",
       "      <td>Полная занятость</td>\n",
       "      <td>7802</td>\n",
       "      <td>15.85869</td>\n",
       "    </tr>\n",
       "    <tr>\n",
       "      <th>2</th>\n",
       "      <td>Гибкий график</td>\n",
       "      <td>Полная занятость</td>\n",
       "      <td>1593</td>\n",
       "      <td>3.23800</td>\n",
       "    </tr>\n",
       "    <tr>\n",
       "      <th>3</th>\n",
       "      <td>Удаленная работа</td>\n",
       "      <td>Частичная занятость</td>\n",
       "      <td>1312</td>\n",
       "      <td>2.66683</td>\n",
       "    </tr>\n",
       "    <tr>\n",
       "      <th>4</th>\n",
       "      <td>Сменный график</td>\n",
       "      <td>Полная занятость</td>\n",
       "      <td>940</td>\n",
       "      <td>1.91069</td>\n",
       "    </tr>\n",
       "  </tbody>\n",
       "</table>\n",
       "</div>"
      ],
      "text/plain": [
       "           schedule           employment  vacancies   percent\n",
       "0       Полный день     Полная занятость      35367  71.88853\n",
       "1  Удаленная работа     Полная занятость       7802  15.85869\n",
       "2     Гибкий график     Полная занятость       1593   3.23800\n",
       "3  Удаленная работа  Частичная занятость       1312   2.66683\n",
       "4    Сменный график     Полная занятость        940   1.91069"
      ]
     },
     "execution_count": 349,
     "metadata": {},
     "output_type": "execute_result"
    }
   ],
   "source": [
    "# результат запроса\n",
    "sched_employment = pd.read_sql_query(query_4_4, connection)\n",
    "sched_employment.head()"
   ]
  },
  {
   "cell_type": "markdown",
   "id": "0136ffee-0ead-4a6b-b608-61d1c753a438",
   "metadata": {
    "id": "0136ffee-0ead-4a6b-b608-61d1c753a438"
   },
   "source": [
    "5. Напишите запрос, выводящий значения поля Требуемый опыт работы (experience) в порядке возрастания количества вакансий, в которых указан данный вариант опыта. "
   ]
  },
  {
   "cell_type": "code",
   "execution_count": 350,
   "id": "5b3a8e79-f7ab-4008-b767-12aea3a205ea",
   "metadata": {
    "id": "5b3a8e79-f7ab-4008-b767-12aea3a205ea"
   },
   "outputs": [],
   "source": [
    "# текст запроса\n",
    "query_4_5 = f'''WITH exp_how_many AS ( -- это основная таблица\n",
    "                    SELECT\n",
    "                        experience,\n",
    "                        COUNT(id) quantity\n",
    "                    FROM\n",
    "                        vacancies\n",
    "                    GROUP BY experience -- группировка по опыту\n",
    "                )\n",
    "                SELECT\n",
    "                    experience,\n",
    "                    quantity,\n",
    "                    ROUND(quantity/(SELECT SUM(quantity) FROM exp_how_many)*100, 1) percent -- вычисляем процент от общего количества вакансий, округляем до одной десятой\n",
    "                FROM\n",
    "                    exp_how_many\n",
    "                ORDER BY quantity -- сортируем в порядке возрастания\n",
    "            '''"
   ]
  },
  {
   "cell_type": "code",
   "execution_count": 351,
   "id": "3Is64Y-hpDpq",
   "metadata": {
    "id": "3Is64Y-hpDpq"
   },
   "outputs": [
    {
     "data": {
      "text/html": [
       "<div>\n",
       "<style scoped>\n",
       "    .dataframe tbody tr th:only-of-type {\n",
       "        vertical-align: middle;\n",
       "    }\n",
       "\n",
       "    .dataframe tbody tr th {\n",
       "        vertical-align: top;\n",
       "    }\n",
       "\n",
       "    .dataframe thead th {\n",
       "        text-align: right;\n",
       "    }\n",
       "</style>\n",
       "<table border=\"1\" class=\"dataframe\">\n",
       "  <thead>\n",
       "    <tr style=\"text-align: right;\">\n",
       "      <th></th>\n",
       "      <th>experience</th>\n",
       "      <th>quantity</th>\n",
       "      <th>percent</th>\n",
       "    </tr>\n",
       "  </thead>\n",
       "  <tbody>\n",
       "    <tr>\n",
       "      <th>0</th>\n",
       "      <td>Более 6 лет</td>\n",
       "      <td>1337</td>\n",
       "      <td>2.7</td>\n",
       "    </tr>\n",
       "    <tr>\n",
       "      <th>1</th>\n",
       "      <td>Нет опыта</td>\n",
       "      <td>7197</td>\n",
       "      <td>14.6</td>\n",
       "    </tr>\n",
       "    <tr>\n",
       "      <th>2</th>\n",
       "      <td>От 3 до 6 лет</td>\n",
       "      <td>14511</td>\n",
       "      <td>29.5</td>\n",
       "    </tr>\n",
       "    <tr>\n",
       "      <th>3</th>\n",
       "      <td>От 1 года до 3 лет</td>\n",
       "      <td>26152</td>\n",
       "      <td>53.2</td>\n",
       "    </tr>\n",
       "  </tbody>\n",
       "</table>\n",
       "</div>"
      ],
      "text/plain": [
       "           experience  quantity  percent\n",
       "0         Более 6 лет      1337      2.7\n",
       "1           Нет опыта      7197     14.6\n",
       "2       От 3 до 6 лет     14511     29.5\n",
       "3  От 1 года до 3 лет     26152     53.2"
      ]
     },
     "execution_count": 351,
     "metadata": {},
     "output_type": "execute_result"
    }
   ],
   "source": [
    "# результат запроса\n",
    "experience_vacancies = pd.read_sql_query(query_4_5, connection)\n",
    "experience_vacancies"
   ]
  },
  {
   "cell_type": "markdown",
   "id": "oq2b7n1QpIka",
   "metadata": {
    "id": "oq2b7n1QpIka"
   },
   "source": [
    "***"
   ]
  },
  {
   "cell_type": "markdown",
   "id": "a7e1f100-1b0a-48d2-b47c-3084d70f4d35",
   "metadata": {
    "id": "e91f87ed-e25c-4f96-9f92-b642e8c0b4fa"
   },
   "source": [
    "выводы по детальному анализу вакансий\n",
    "- Распределение вакансий по регеонам, нам показало, прямо коррелирует с количеством населения, административным статусом, количесством экономических субъектов (компаний, предприятий, научных учреждений и т.д.) в данном регеоне. В первую сотню по количеству вакансий входят административные субъекты РФ , а также сталицы и крупные города СНГ.\n",
    "    \n",
    "- Средние значения для нижней и верхней границы зарплатной вилки составляют 71 и 110 тыс. рублей, соответственно (правда половина работодателей вообще не указала данных о зарплате).\n",
    "    \n",
    "- Распределение вакансий для каждого сочетания типа рабочего графика и типа трудоустройства показывает явное предпочтение работодателя к тотальному физическому контролю над своим наемным персоналом. Более 80 % вакансий предполагают личное присутствие на рабочем месте (полный день, сменный и гибкий график), на долю удаленной работы приходится лишь около 19 %. Вахтовый метод где-то 0.8 %.\n",
    "    \n",
    "- Требуемый опыт работы указан в подавляющем количестве вакансий - более 85 %. Для новичков остается всего 14.6% вакансий , где опыт не указан. Но как мы видим чуть более 50% вакансий требую хоть какой то опыт (от 1 года до 3 лет)."
   ]
  },
  {
   "cell_type": "markdown",
   "id": "7ea20ab6-04a7-40a0-adec-443a0e5a42c3",
   "metadata": {
    "id": "7ea20ab6-04a7-40a0-adec-443a0e5a42c3"
   },
   "source": [
    "# Юнит 5. Анализ работодателей"
   ]
  },
  {
   "cell_type": "markdown",
   "id": "968aed80-74ef-4ffb-b5bf-c65b84e9caea",
   "metadata": {
    "id": "968aed80-74ef-4ffb-b5bf-c65b84e9caea"
   },
   "source": [
    "1. Напишите запрос, который позволит узнать, какие работодатели находятся на первом и пятом месте по количеству вакансий."
   ]
  },
  {
   "cell_type": "code",
   "execution_count": 352,
   "id": "f2d62796-d400-4ec1-a675-88112739a50e",
   "metadata": {
    "id": "f2d62796-d400-4ec1-a675-88112739a50e"
   },
   "outputs": [],
   "source": [
    "# текст запроса\n",
    "query_5_1 = f'''WITH employers AS ( -- тут создадим таблицу с количеством вакансий у каждого работодателя, с сортировкой по убыванию\n",
    "                    SELECT\n",
    "                        e.name,\n",
    "                        COUNT(v.id) quantity\n",
    "                    FROM\n",
    "                        vacancies v\n",
    "                        LEFT JOIN employers e ON v.employer_id = e.id -- получаем названия работодателей\n",
    "                    GROUP BY e.id\n",
    "                    ORDER BY quantity DESC\n",
    "                )\n",
    "                (SELECT -- тут возьмем 1 строку из созданной таблицы\n",
    "                     name,\n",
    "                     quantity,\n",
    "                     1 place\n",
    "                 FROM\n",
    "                     employers\n",
    "                 LIMIT 1)\n",
    "                UNION -- объединим две нужные строки в новую табличку\n",
    "                (SELECT -- тут возьмем 5 строку из созданной таблицы\n",
    "                     name,\n",
    "                     quantity,\n",
    "                     5\n",
    "                 FROM\n",
    "                     employers\n",
    "                 OFFSET 4\n",
    "                 LIMIT 1)\n",
    "                 ORDER BY place -- отсортируем \n",
    "            '''"
   ]
  },
  {
   "cell_type": "code",
   "execution_count": 353,
   "id": "64tOMkAxqkQk",
   "metadata": {
    "id": "64tOMkAxqkQk"
   },
   "outputs": [
    {
     "data": {
      "text/html": [
       "<div>\n",
       "<style scoped>\n",
       "    .dataframe tbody tr th:only-of-type {\n",
       "        vertical-align: middle;\n",
       "    }\n",
       "\n",
       "    .dataframe tbody tr th {\n",
       "        vertical-align: top;\n",
       "    }\n",
       "\n",
       "    .dataframe thead th {\n",
       "        text-align: right;\n",
       "    }\n",
       "</style>\n",
       "<table border=\"1\" class=\"dataframe\">\n",
       "  <thead>\n",
       "    <tr style=\"text-align: right;\">\n",
       "      <th></th>\n",
       "      <th>name</th>\n",
       "      <th>quantity</th>\n",
       "      <th>place</th>\n",
       "    </tr>\n",
       "  </thead>\n",
       "  <tbody>\n",
       "    <tr>\n",
       "      <th>0</th>\n",
       "      <td>Яндекс</td>\n",
       "      <td>1933</td>\n",
       "      <td>1</td>\n",
       "    </tr>\n",
       "    <tr>\n",
       "      <th>1</th>\n",
       "      <td>Газпром нефть</td>\n",
       "      <td>331</td>\n",
       "      <td>5</td>\n",
       "    </tr>\n",
       "  </tbody>\n",
       "</table>\n",
       "</div>"
      ],
      "text/plain": [
       "            name  quantity  place\n",
       "0         Яндекс      1933      1\n",
       "1  Газпром нефть       331      5"
      ]
     },
     "execution_count": 353,
     "metadata": {},
     "output_type": "execute_result"
    }
   ],
   "source": [
    "# результат запроса\n",
    "employer_vacancies = pd.read_sql_query(query_5_1, connection)\n",
    "employer_vacancies"
   ]
  },
  {
   "cell_type": "markdown",
   "id": "68377cfc-b378-43dc-ab7d-1195abf2c515",
   "metadata": {
    "id": "68377cfc-b378-43dc-ab7d-1195abf2c515"
   },
   "source": [
    "2. Напишите запрос, который для каждого региона выведет количество работодателей и вакансий в нём.\n",
    "Среди регионов, в которых нет вакансий, найдите тот, в котором наибольшее количество работодателей.\n"
   ]
  },
  {
   "cell_type": "code",
   "execution_count": 354,
   "id": "dd7df27a-e3e8-412e-a21a-5d389b71e891",
   "metadata": {
    "id": "dd7df27a-e3e8-412e-a21a-5d389b71e891"
   },
   "outputs": [],
   "source": [
    "# текст запроса\n",
    "query_5_2 = f'''SELECT\n",
    "                    a.name,\n",
    "                    vacan.vacan_quantity,\n",
    "                    employ.employ_quantity\n",
    "                FROM areas a -- присоединяем слева к таблице с регионами таблицы vacan и employ по ID регионов, получим для каждого региона количество вакансий и работодателей\n",
    "                     LEFT JOIN (SELECT \n",
    "                                    a.id id,\n",
    "                                    COUNT(v.id) vacan_quantity\n",
    "                                FROM\n",
    "                                    vacancies v \n",
    "                                    LEFT JOIN areas a ON v.area_id = a.id\n",
    "                                GROUP BY a.id -- таблица vacan с названиями регионов и количеством вакансий по каждому\n",
    "                                ) vacan ON a.id = vacan.id\n",
    "                     LEFT JOIN (SELECT\n",
    "                                    a.id id,\n",
    "                                    COUNT(e.id) employ_quantity\n",
    "                                FROM\n",
    "                                    employers e \n",
    "                                    LEFT JOIN areas a ON e.area = a.id\n",
    "                                GROUP BY a.id -- таблица employ с названиями регионов и количеством работодателей в них\n",
    "                                ) employ ON a.id = employ.id\n",
    "                WHERE employ_quantity IS NOT NULL -- оставим только те регионы, в которых есть хотя бы один работодатель\n",
    "                ORDER BY vacan_quantity DESC, employ_quantity DESC -- сортируем по количеству вакансий по убыванию, при этом все отсутствующие будут сверху, а после этой сортировки сортируем еще по количеству работодателей по убыванию и тогда в первой строке получим требуемый регион\n",
    "             '''"
   ]
  },
  {
   "cell_type": "code",
   "execution_count": 355,
   "id": "x1ikWbydrbf6",
   "metadata": {
    "id": "x1ikWbydrbf6"
   },
   "outputs": [
    {
     "data": {
      "text/html": [
       "<div>\n",
       "<style scoped>\n",
       "    .dataframe tbody tr th:only-of-type {\n",
       "        vertical-align: middle;\n",
       "    }\n",
       "\n",
       "    .dataframe tbody tr th {\n",
       "        vertical-align: top;\n",
       "    }\n",
       "\n",
       "    .dataframe thead th {\n",
       "        text-align: right;\n",
       "    }\n",
       "</style>\n",
       "<table border=\"1\" class=\"dataframe\">\n",
       "  <thead>\n",
       "    <tr style=\"text-align: right;\">\n",
       "      <th></th>\n",
       "      <th>name</th>\n",
       "      <th>vacan_quantity</th>\n",
       "      <th>employ_quantity</th>\n",
       "    </tr>\n",
       "  </thead>\n",
       "  <tbody>\n",
       "    <tr>\n",
       "      <th>0</th>\n",
       "      <td>Россия</td>\n",
       "      <td>NaN</td>\n",
       "      <td>410</td>\n",
       "    </tr>\n",
       "    <tr>\n",
       "      <th>1</th>\n",
       "      <td>Казахстан</td>\n",
       "      <td>NaN</td>\n",
       "      <td>207</td>\n",
       "    </tr>\n",
       "    <tr>\n",
       "      <th>2</th>\n",
       "      <td>Московская область</td>\n",
       "      <td>NaN</td>\n",
       "      <td>75</td>\n",
       "    </tr>\n",
       "    <tr>\n",
       "      <th>3</th>\n",
       "      <td>Краснодарский край</td>\n",
       "      <td>NaN</td>\n",
       "      <td>19</td>\n",
       "    </tr>\n",
       "    <tr>\n",
       "      <th>4</th>\n",
       "      <td>Ростовская область</td>\n",
       "      <td>NaN</td>\n",
       "      <td>18</td>\n",
       "    </tr>\n",
       "  </tbody>\n",
       "</table>\n",
       "</div>"
      ],
      "text/plain": [
       "                 name  vacan_quantity  employ_quantity\n",
       "0              Россия             NaN              410\n",
       "1           Казахстан             NaN              207\n",
       "2  Московская область             NaN               75\n",
       "3  Краснодарский край             NaN               19\n",
       "4  Ростовская область             NaN               18"
      ]
     },
     "execution_count": 355,
     "metadata": {},
     "output_type": "execute_result"
    }
   ],
   "source": [
    "# результат запроса\n",
    "area_vacan_employ = pd.read_sql_query(query_5_2, connection)\n",
    "area_vacan_employ.head()"
   ]
  },
  {
   "cell_type": "markdown",
   "id": "f2fe0acb-ab1a-4e15-9326-2560e22d73c1",
   "metadata": {
    "id": "f2fe0acb-ab1a-4e15-9326-2560e22d73c1"
   },
   "source": [
    "3. Для каждого работодателя посчитайте количество регионов, в которых он публикует свои вакансии. Отсортируйте результат по убыванию количества.\n"
   ]
  },
  {
   "cell_type": "code",
   "execution_count": 356,
   "id": "6271f8ad-bd2e-4196-ae4a-5b39c4c1010e",
   "metadata": {
    "id": "6271f8ad-bd2e-4196-ae4a-5b39c4c1010e"
   },
   "outputs": [],
   "source": [
    "# текст запроса\n",
    "query_5_3 = f'''SELECT\n",
    "                    e.name,\n",
    "                    COUNT(DISTINCT v.area_id) quantity -- количество регионов для каждого работодателя\n",
    "                FROM\n",
    "                    vacancies v\n",
    "                    LEFT JOIN employers e ON v.employer_id = e.id -- добавляем слева для названия работодателя\n",
    "                GROUP BY e.id -- группируем по id работодателя\n",
    "                ORDER BY quantity DESC\n",
    "            '''"
   ]
  },
  {
   "cell_type": "code",
   "execution_count": 357,
   "id": "1EIvX3HasH4F",
   "metadata": {
    "id": "1EIvX3HasH4F"
   },
   "outputs": [
    {
     "data": {
      "text/html": [
       "<div>\n",
       "<style scoped>\n",
       "    .dataframe tbody tr th:only-of-type {\n",
       "        vertical-align: middle;\n",
       "    }\n",
       "\n",
       "    .dataframe tbody tr th {\n",
       "        vertical-align: top;\n",
       "    }\n",
       "\n",
       "    .dataframe thead th {\n",
       "        text-align: right;\n",
       "    }\n",
       "</style>\n",
       "<table border=\"1\" class=\"dataframe\">\n",
       "  <thead>\n",
       "    <tr style=\"text-align: right;\">\n",
       "      <th></th>\n",
       "      <th>name</th>\n",
       "      <th>quantity</th>\n",
       "    </tr>\n",
       "  </thead>\n",
       "  <tbody>\n",
       "    <tr>\n",
       "      <th>0</th>\n",
       "      <td>Яндекс</td>\n",
       "      <td>181</td>\n",
       "    </tr>\n",
       "    <tr>\n",
       "      <th>1</th>\n",
       "      <td>Ростелеком</td>\n",
       "      <td>152</td>\n",
       "    </tr>\n",
       "    <tr>\n",
       "      <th>2</th>\n",
       "      <td>Спецремонт</td>\n",
       "      <td>116</td>\n",
       "    </tr>\n",
       "    <tr>\n",
       "      <th>3</th>\n",
       "      <td>Поляков Денис Иванович</td>\n",
       "      <td>88</td>\n",
       "    </tr>\n",
       "    <tr>\n",
       "      <th>4</th>\n",
       "      <td>ООО ЕФИН</td>\n",
       "      <td>71</td>\n",
       "    </tr>\n",
       "  </tbody>\n",
       "</table>\n",
       "</div>"
      ],
      "text/plain": [
       "                     name  quantity\n",
       "0                  Яндекс       181\n",
       "1              Ростелеком       152\n",
       "2              Спецремонт       116\n",
       "3  Поляков Денис Иванович        88\n",
       "4               ООО ЕФИН         71"
      ]
     },
     "execution_count": 357,
     "metadata": {},
     "output_type": "execute_result"
    }
   ],
   "source": [
    "# результат запроса\n",
    "employ_vacan_area = pd.read_sql_query(query_5_3, connection)\n",
    "employ_vacan_area.head()"
   ]
  },
  {
   "cell_type": "markdown",
   "id": "eab2206d-d95b-468b-8e5f-34381abf0ce7",
   "metadata": {
    "id": "eab2206d-d95b-468b-8e5f-34381abf0ce7"
   },
   "source": [
    "4. Напишите запрос для подсчёта количества работодателей, у которых не указана сфера деятельности. "
   ]
  },
  {
   "cell_type": "code",
   "execution_count": 358,
   "id": "80defb23-bfb1-4a18-8be6-bf36aa7165d5",
   "metadata": {
    "id": "80defb23-bfb1-4a18-8be6-bf36aa7165d5"
   },
   "outputs": [],
   "source": [
    "# текст запроса\n",
    "query_5_4 = f'''SELECT\n",
    "                    COUNT(*)\n",
    "                FROM\n",
    "                    employers e\n",
    "                    FULL JOIN employers_industries e_i ON e.id = e_i.employer_id -- полное соединение, получаем записи (строки) для каждого работодателя со всеми id сферы деятельности (построчно) или одну запись с \"пустышкой\" на месте id сферы деятельности (если для id работодателя нет ни одной записи в таблице employers_industries)\n",
    "                WHERE \n",
    "                    e_i.industry_id IS NULL -- оставляем только записи с пустыми полями id сферы деятельности \n",
    "            '''"
   ]
  },
  {
   "cell_type": "code",
   "execution_count": 359,
   "id": "Dp_yCx6ysQSu",
   "metadata": {
    "id": "Dp_yCx6ysQSu"
   },
   "outputs": [
    {
     "data": {
      "text/html": [
       "<div>\n",
       "<style scoped>\n",
       "    .dataframe tbody tr th:only-of-type {\n",
       "        vertical-align: middle;\n",
       "    }\n",
       "\n",
       "    .dataframe tbody tr th {\n",
       "        vertical-align: top;\n",
       "    }\n",
       "\n",
       "    .dataframe thead th {\n",
       "        text-align: right;\n",
       "    }\n",
       "</style>\n",
       "<table border=\"1\" class=\"dataframe\">\n",
       "  <thead>\n",
       "    <tr style=\"text-align: right;\">\n",
       "      <th></th>\n",
       "      <th>count</th>\n",
       "    </tr>\n",
       "  </thead>\n",
       "  <tbody>\n",
       "    <tr>\n",
       "      <th>0</th>\n",
       "      <td>8419</td>\n",
       "    </tr>\n",
       "  </tbody>\n",
       "</table>\n",
       "</div>"
      ],
      "text/plain": [
       "   count\n",
       "0   8419"
      ]
     },
     "execution_count": 359,
     "metadata": {},
     "output_type": "execute_result"
    }
   ],
   "source": [
    "# результат запроса\n",
    "employ_industies_empty = pd.read_sql_query(query_5_4, connection)\n",
    "employ_industies_empty"
   ]
  },
  {
   "cell_type": "markdown",
   "id": "0112af31-f6b0-4e3b-82ab-71296e752e5e",
   "metadata": {
    "id": "0112af31-f6b0-4e3b-82ab-71296e752e5e"
   },
   "source": [
    "5. Напишите запрос, чтобы узнать название компании, находящейся на третьем месте в алфавитном списке (по названию) компаний, у которых указано четыре сферы деятельности. "
   ]
  },
  {
   "cell_type": "code",
   "execution_count": 360,
   "id": "973b0cfc-a972-470a-8b4a-68744ef220c4",
   "metadata": {
    "id": "973b0cfc-a972-470a-8b4a-68744ef220c4"
   },
   "outputs": [],
   "source": [
    "# текст запроса\n",
    "query_5_5 = f'''SELECT\n",
    "                    e.name\n",
    "                FROM\n",
    "                    employers_industries e_i\n",
    "                    LEFT JOIN employers e ON e_i.employer_id = e.id -- добавляем названия и id работодателей\n",
    "                GROUP BY e.id -- группируем по id работодателя\n",
    "                HAVING COUNT(e_i.industry_id) = 4 -- оставляем только тех работодателей, у которых 4 записи (4 сферы деятельности)\n",
    "                ORDER BY name -- сортировка по алфавиту\n",
    "                OFFSET 2 -- отступ на 2 строки\n",
    "                LIMIT 1 -- вывод первой после отступа\n",
    "            '''"
   ]
  },
  {
   "cell_type": "code",
   "execution_count": 361,
   "id": "xsPtpp8EsaED",
   "metadata": {
    "id": "xsPtpp8EsaED"
   },
   "outputs": [
    {
     "data": {
      "text/html": [
       "<div>\n",
       "<style scoped>\n",
       "    .dataframe tbody tr th:only-of-type {\n",
       "        vertical-align: middle;\n",
       "    }\n",
       "\n",
       "    .dataframe tbody tr th {\n",
       "        vertical-align: top;\n",
       "    }\n",
       "\n",
       "    .dataframe thead th {\n",
       "        text-align: right;\n",
       "    }\n",
       "</style>\n",
       "<table border=\"1\" class=\"dataframe\">\n",
       "  <thead>\n",
       "    <tr style=\"text-align: right;\">\n",
       "      <th></th>\n",
       "      <th>name</th>\n",
       "    </tr>\n",
       "  </thead>\n",
       "  <tbody>\n",
       "    <tr>\n",
       "      <th>0</th>\n",
       "      <td>2ГИС</td>\n",
       "    </tr>\n",
       "  </tbody>\n",
       "</table>\n",
       "</div>"
      ],
      "text/plain": [
       "   name\n",
       "0  2ГИС"
      ]
     },
     "execution_count": 361,
     "metadata": {},
     "output_type": "execute_result"
    }
   ],
   "source": [
    "# результат запроса\n",
    "third_employ_4_industies = pd.read_sql_query(query_5_5, connection)\n",
    "third_employ_4_industies"
   ]
  },
  {
   "cell_type": "markdown",
   "id": "3bfcfdaf-755d-4d2b-8ed8-326201dc07ab",
   "metadata": {
    "id": "3bfcfdaf-755d-4d2b-8ed8-326201dc07ab"
   },
   "source": [
    "6. С помощью запроса выясните, у какого количества работодателей в качестве сферы деятельности указана Разработка программного обеспечения.\n"
   ]
  },
  {
   "cell_type": "code",
   "execution_count": 362,
   "id": "ad3f270f-2991-47eb-929b-e8f88a55b0d1",
   "metadata": {
    "id": "ad3f270f-2991-47eb-929b-e8f88a55b0d1"
   },
   "outputs": [],
   "source": [
    "# текст запроса\n",
    "query_5_6 = f'''SELECT\n",
    "                    COUNT(DISTINCT employer_id) quantity -- подсчет количества уникальных id работодателей\n",
    "                FROM\n",
    "                    employers_industries e_i\n",
    "                    LEFT JOIN industries i ON e_i.industry_id = i.id -- добавляем сферы деятельности\n",
    "                WHERE i.name ~ 'Разработка программного обеспечения' \n",
    "             '''"
   ]
  },
  {
   "cell_type": "code",
   "execution_count": 363,
   "id": "H72qxWM0shPR",
   "metadata": {
    "id": "H72qxWM0shPR"
   },
   "outputs": [
    {
     "data": {
      "text/html": [
       "<div>\n",
       "<style scoped>\n",
       "    .dataframe tbody tr th:only-of-type {\n",
       "        vertical-align: middle;\n",
       "    }\n",
       "\n",
       "    .dataframe tbody tr th {\n",
       "        vertical-align: top;\n",
       "    }\n",
       "\n",
       "    .dataframe thead th {\n",
       "        text-align: right;\n",
       "    }\n",
       "</style>\n",
       "<table border=\"1\" class=\"dataframe\">\n",
       "  <thead>\n",
       "    <tr style=\"text-align: right;\">\n",
       "      <th></th>\n",
       "      <th>quantity</th>\n",
       "    </tr>\n",
       "  </thead>\n",
       "  <tbody>\n",
       "    <tr>\n",
       "      <th>0</th>\n",
       "      <td>3553</td>\n",
       "    </tr>\n",
       "  </tbody>\n",
       "</table>\n",
       "</div>"
      ],
      "text/plain": [
       "   quantity\n",
       "0      3553"
      ]
     },
     "execution_count": 363,
     "metadata": {},
     "output_type": "execute_result"
    }
   ],
   "source": [
    "# результат запроса\n",
    "employ_certain_industry = pd.read_sql_query(query_5_6, connection)\n",
    "employ_certain_industry"
   ]
  },
  {
   "cell_type": "markdown",
   "id": "7b02bb86-0546-40fb-94a4-242f050a5c57",
   "metadata": {
    "id": "7b02bb86-0546-40fb-94a4-242f050a5c57"
   },
   "source": [
    "7. Для компании «Яндекс» выведите список регионов-миллионников, в которых представлены вакансии компании, вместе с количеством вакансий в этих регионах. Также добавьте строку Total с общим количеством вакансий компании. Результат отсортируйте по возрастанию количества.\n",
    "\n",
    "Список городов-милионников надо взять [отсюда](https://ru.wikipedia.org/wiki/%D0%93%D0%BE%D1%80%D0%BE%D0%B4%D0%B0-%D0%BC%D0%B8%D0%BB%D0%BB%D0%B8%D0%BE%D0%BD%D0%B5%D1%80%D1%8B_%D0%A0%D0%BE%D1%81%D1%81%D0%B8%D0%B8). \n",
    "\n",
    "Если возникнут трудности с этим задание посмотрите материалы модуля  PYTHON-17. Как получать данные из веб-источников и API. "
   ]
  },
  {
   "cell_type": "code",
   "execution_count": 364,
   "id": "ZdfrL6gIs1Pn",
   "metadata": {
    "id": "ZdfrL6gIs1Pn"
   },
   "outputs": [
    {
     "name": "stdout",
     "output_type": "stream",
     "text": [
      "('Москва', 'Санкт-Петербург', 'Новосибирск', 'Екатеринбург', 'Казань', 'Нижний Новгород', 'Красноярск', 'Челябинск', 'Самара', 'Уфа', 'Ростов-на-Дону', 'Краснодар', 'Омск', 'Воронеж', 'Пермь', 'Волгоград')\n"
     ]
    }
   ],
   "source": [
    "# код для получения списка городов-милионников\n",
    "\n",
    "# импорт необходимых библиотек\n",
    "import requests\n",
    "from bs4 import BeautifulSoup\n",
    "\n",
    "# извлечение данных со страницы по указанному адресу\n",
    "url = 'https://ru.wikipedia.org/wiki/Города-миллионеры_России'\n",
    "response = requests.get(url).text\n",
    "\n",
    "# создание объекта типа BeautifulSoup с использованием парсера lxml\n",
    "# потом методом select получаем содержимое нужной таблицы с городами-миллионниками - это список\n",
    "# дальше для 1 элемента списка точно также получаем список содержимого для тегов a с атрибутами href и title\n",
    "soup = BeautifulSoup(response, 'html.parser')\n",
    "tab_content = soup.select('#mw-content-text > div.mw-parser-output > table.standard.sortable > tbody')\n",
    "cities = tab_content[0].select('a[href][title]')\n",
    "\n",
    "# в результате получено искомое, но есть два лишних элемента - две ссылки в названиях столбцов таблицы, \n",
    "# удовлетворяющих условию, нужно их удалить\n",
    "# подготовим новый пустой список\n",
    "city_list = []\n",
    "\n",
    "# в цикле проверим все элементы имеющегося списка на условия - \n",
    "# не больше двух слов и первая буква заглавная\n",
    "for i in cities:\n",
    "    elem = i.text\n",
    "    if (len(elem.split()) <= 2) & (elem[0].isupper()):\n",
    "        city_list.append(elem)\n",
    "\n",
    "# преобразуем список в кортеж и выведем\n",
    "city_list = tuple(city_list)\n",
    "\n",
    "print(city_list)"
   ]
  },
  {
   "cell_type": "code",
   "execution_count": 365,
   "id": "5a0e32a4-e68a-4365-8a39-2fe24c542c36",
   "metadata": {
    "id": "5a0e32a4-e68a-4365-8a39-2fe24c542c36"
   },
   "outputs": [],
   "source": [
    "# текст запроса\n",
    "query_5_7 = f'''WITH tab AS (\n",
    "                SELECT\n",
    "                    a.name,\n",
    "                    COUNT(*)::int cnt\n",
    "                FROM\n",
    "                    vacancies v\n",
    "                    LEFT JOIN employers e ON v.employer_id = e.id\n",
    "                    LEFT JOIN areas a ON v.area_id = a.id -- в таблицу вакансий добавляем названия работодателей и регионов, методом присоединения слева\n",
    "                WHERE \n",
    "                    e.name LIKE 'Яндекс' -- условие: только Яндекс\n",
    "                    AND a.name IN {city_list} -- условие: только из списка миллионников точнее кортежа\n",
    "                GROUP BY a.id\n",
    "                ) -- cоздаем таблицу tab с регионами из заданного списка (города-миллионники) и количеством вакансий для каждого, исключительно для Яндекса\n",
    "                \n",
    "                SELECT \n",
    "                    *\n",
    "                FROM\n",
    "                    tab\n",
    "                UNION -- добавляем к имеющейся таблице tab общее количество вакансий по всем городам-миллионникам из нее же\n",
    "                SELECT\n",
    "                    'Total',\n",
    "                    SUM(cnt) -- общая сумма вакансий\n",
    "                FROM\n",
    "                    tab\n",
    "                ORDER BY cnt -- сортируем по количеству вакансий по возрастанию\n",
    "             '''"
   ]
  },
  {
   "cell_type": "code",
   "execution_count": 366,
   "id": "ttPhiO1rsvPq",
   "metadata": {
    "id": "ttPhiO1rsvPq"
   },
   "outputs": [
    {
     "data": {
      "text/html": [
       "<div>\n",
       "<style scoped>\n",
       "    .dataframe tbody tr th:only-of-type {\n",
       "        vertical-align: middle;\n",
       "    }\n",
       "\n",
       "    .dataframe tbody tr th {\n",
       "        vertical-align: top;\n",
       "    }\n",
       "\n",
       "    .dataframe thead th {\n",
       "        text-align: right;\n",
       "    }\n",
       "</style>\n",
       "<table border=\"1\" class=\"dataframe\">\n",
       "  <thead>\n",
       "    <tr style=\"text-align: right;\">\n",
       "      <th></th>\n",
       "      <th>name</th>\n",
       "      <th>cnt</th>\n",
       "    </tr>\n",
       "  </thead>\n",
       "  <tbody>\n",
       "    <tr>\n",
       "      <th>12</th>\n",
       "      <td>Нижний Новгород</td>\n",
       "      <td>36</td>\n",
       "    </tr>\n",
       "    <tr>\n",
       "      <th>13</th>\n",
       "      <td>Екатеринбург</td>\n",
       "      <td>39</td>\n",
       "    </tr>\n",
       "    <tr>\n",
       "      <th>14</th>\n",
       "      <td>Санкт-Петербург</td>\n",
       "      <td>42</td>\n",
       "    </tr>\n",
       "    <tr>\n",
       "      <th>15</th>\n",
       "      <td>Москва</td>\n",
       "      <td>54</td>\n",
       "    </tr>\n",
       "    <tr>\n",
       "      <th>16</th>\n",
       "      <td>Total</td>\n",
       "      <td>485</td>\n",
       "    </tr>\n",
       "  </tbody>\n",
       "</table>\n",
       "</div>"
      ],
      "text/plain": [
       "               name  cnt\n",
       "12  Нижний Новгород   36\n",
       "13     Екатеринбург   39\n",
       "14  Санкт-Петербург   42\n",
       "15           Москва   54\n",
       "16            Total  485"
      ]
     },
     "execution_count": 366,
     "metadata": {},
     "output_type": "execute_result"
    }
   ],
   "source": [
    "# результат запроса\n",
    "yandex_million_areas = pd.read_sql_query(query_5_7, connection)\n",
    "yandex_million_areas.tail()"
   ]
  },
  {
   "cell_type": "markdown",
   "id": "04966e40-3bc3-4dc8-9ba2-e80580ce3abc",
   "metadata": {
    "id": "04966e40-3bc3-4dc8-9ba2-e80580ce3abc"
   },
   "source": [
    "***"
   ]
  },
  {
   "cell_type": "markdown",
   "id": "62e4b7d4-7e1d-453c-83f4-663bdbffd5ee",
   "metadata": {
    "id": "aGGyER-yt4SR"
   },
   "source": [
    "выводы по анализу работодателей\n",
    "- работодатели на первом и пятом месте по количеству вакансий: Яндекс и Газпромнефть.\n",
    "- количество работодателей и вакансий для каждого региона мы тоже уже видели ранее, по отдельности. Оказалось,\n",
    "    что 186 регионов без вакансий, но об этом тоже говорили. Здесь страны, и другие составные субъекты, отдельные части\n",
    "    которых присутствуют в перечне регионов. Плюс маленькие регионы, без текущей потребности в ИТ специалистах.\n",
    "- компанию 2ГИС указала 4 сферы деятельности.\n",
    "- посмотрим количество вакансий Яндекса по городам-миллионникам, которых на момент было 16. Всего 485 вакансий, что составляет четверть от всех вакансий Яндекса."
   ]
  },
  {
   "cell_type": "markdown",
   "id": "b1ef156a-efcb-49ce-bb23-90763e7f35b2",
   "metadata": {
    "id": "b1ef156a-efcb-49ce-bb23-90763e7f35b2",
    "tags": []
   },
   "source": [
    "# Юнит 6. Предметный анализ"
   ]
  },
  {
   "cell_type": "markdown",
   "id": "b9cd50a0-992d-4988-8463-2b2b1c4629b4",
   "metadata": {
    "id": "b9cd50a0-992d-4988-8463-2b2b1c4629b4"
   },
   "source": [
    "1. Сколько вакансий имеет отношение к данным?\n",
    "\n",
    "Считаем, что вакансия имеет отношение к данным, если в её названии содержатся слова 'data' или 'данн'.\n",
    "\n",
    "*Подсказка: Обратите внимание, что названия вакансий могут быть написаны в любом регистре.* \n"
   ]
  },
  {
   "cell_type": "code",
   "execution_count": 367,
   "id": "54ab0e50-c0f1-47cc-a54b-bc5c8bc363f9",
   "metadata": {
    "id": "54ab0e50-c0f1-47cc-a54b-bc5c8bc363f9"
   },
   "outputs": [],
   "source": [
    "# текст запроса\n",
    "query_6_1 = f'''SELECT\n",
    "                    COUNT(*)\n",
    "                FROM\n",
    "                    vacancies v\n",
    "                WHERE \n",
    "                    lower(v.name) ~* 'data' OR lower(v.name) ~* 'данн' -- приводим значение поля к нижнему регистру и проверяем наличие двух заданных эелементов в нем\n",
    "             '''"
   ]
  },
  {
   "cell_type": "code",
   "execution_count": 368,
   "id": "9F1meAqsuUjd",
   "metadata": {
    "id": "9F1meAqsuUjd"
   },
   "outputs": [
    {
     "data": {
      "text/html": [
       "<div>\n",
       "<style scoped>\n",
       "    .dataframe tbody tr th:only-of-type {\n",
       "        vertical-align: middle;\n",
       "    }\n",
       "\n",
       "    .dataframe tbody tr th {\n",
       "        vertical-align: top;\n",
       "    }\n",
       "\n",
       "    .dataframe thead th {\n",
       "        text-align: right;\n",
       "    }\n",
       "</style>\n",
       "<table border=\"1\" class=\"dataframe\">\n",
       "  <thead>\n",
       "    <tr style=\"text-align: right;\">\n",
       "      <th></th>\n",
       "      <th>count</th>\n",
       "    </tr>\n",
       "  </thead>\n",
       "  <tbody>\n",
       "    <tr>\n",
       "      <th>0</th>\n",
       "      <td>1771</td>\n",
       "    </tr>\n",
       "  </tbody>\n",
       "</table>\n",
       "</div>"
      ],
      "text/plain": [
       "   count\n",
       "0   1771"
      ]
     },
     "execution_count": 368,
     "metadata": {},
     "output_type": "execute_result"
    }
   ],
   "source": [
    "# результат запроса\n",
    "data_vacancies = pd.read_sql_query(query_6_1, connection)\n",
    "data_vacancies"
   ]
  },
  {
   "cell_type": "markdown",
   "id": "4dea20cb-a36b-474a-a0b9-e08e8e3857a5",
   "metadata": {
    "id": "4dea20cb-a36b-474a-a0b9-e08e8e3857a5"
   },
   "source": [
    "2. Сколько есть подходящих вакансий для начинающего дата-сайентиста? \n",
    "Будем считать вакансиями для дата-сайентистов такие, в названии которых есть хотя бы одно из следующих сочетаний:\n",
    "* 'data scientist'\n",
    "* 'data science'\n",
    "* 'исследователь данных'\n",
    "* 'ML' (здесь не нужно брать вакансии по HTML)\n",
    "* 'machine learning'\n",
    "* 'машинн%обучен%'\n",
    "\n",
    "** В следующих заданиях мы продолжим работать с вакансиями по этому условию.*\n",
    "\n",
    "Считаем вакансиями для специалистов уровня Junior следующие:\n",
    "* в названии есть слово 'junior' *или*\n",
    "* требуемый опыт — Нет опыта *или*\n",
    "* тип трудоустройства — Стажировка.\n",
    " "
   ]
  },
  {
   "cell_type": "code",
   "execution_count": 369,
   "id": "9c61b3c0-bb66-46c9-ae1e-81d3f5752b4a",
   "metadata": {
    "id": "9c61b3c0-bb66-46c9-ae1e-81d3f5752b4a"
   },
   "outputs": [],
   "source": [
    "# текст запроса\n",
    "query_6_2 = f'''SELECT\n",
    "                    COUNT(*)\n",
    "                FROM\n",
    "                    vacancies\n",
    "                WHERE\n",
    "                    (name ~* 'data scientist' OR \n",
    "                    name ~* 'data science' OR \n",
    "                    name ~* 'исследователь данных' OR\n",
    "                    (name ~ 'ML' AND name !~* 'HTML') OR\n",
    "                    name ~* 'machine learning' OR\n",
    "                    name ~* 'машинн.*обучен.*') -- применение условия для соответствия вакансии дата-сайентиста\n",
    "                    AND\n",
    "                    (lower(name) ~* 'junior' OR\n",
    "                    experience ='Нет опыта' OR\n",
    "                    employment = 'Стажировка') -- применение условия для уровня 'junior': наличие элемента 'junior' в поле name (причем в любом регистре, для этого приводим название вакансии к нижнему регистру), для опыта и занятости соответствие заданным значениям\n",
    "             '''"
   ]
  },
  {
   "cell_type": "code",
   "execution_count": 370,
   "id": "ZNM-LLYuu1dj",
   "metadata": {
    "id": "ZNM-LLYuu1dj"
   },
   "outputs": [
    {
     "data": {
      "text/html": [
       "<div>\n",
       "<style scoped>\n",
       "    .dataframe tbody tr th:only-of-type {\n",
       "        vertical-align: middle;\n",
       "    }\n",
       "\n",
       "    .dataframe tbody tr th {\n",
       "        vertical-align: top;\n",
       "    }\n",
       "\n",
       "    .dataframe thead th {\n",
       "        text-align: right;\n",
       "    }\n",
       "</style>\n",
       "<table border=\"1\" class=\"dataframe\">\n",
       "  <thead>\n",
       "    <tr style=\"text-align: right;\">\n",
       "      <th></th>\n",
       "      <th>count</th>\n",
       "    </tr>\n",
       "  </thead>\n",
       "  <tbody>\n",
       "    <tr>\n",
       "      <th>0</th>\n",
       "      <td>51</td>\n",
       "    </tr>\n",
       "  </tbody>\n",
       "</table>\n",
       "</div>"
      ],
      "text/plain": [
       "   count\n",
       "0     51"
      ]
     },
     "execution_count": 370,
     "metadata": {},
     "output_type": "execute_result"
    }
   ],
   "source": [
    "# результат запроса\n",
    "junior_vacancies = pd.read_sql_query(query_6_2, connection)\n",
    "junior_vacancies"
   ]
  },
  {
   "cell_type": "markdown",
   "id": "eedceb80-c5ca-480e-b27a-278dfb8b4438",
   "metadata": {
    "id": "eedceb80-c5ca-480e-b27a-278dfb8b4438"
   },
   "source": [
    "3. Сколько есть вакансий для DS, в которых в качестве ключевого навыка указан SQL или postgres?\n",
    "\n",
    "** Критерии для отнесения вакансии к DS указаны в предыдущем задании.*"
   ]
  },
  {
   "cell_type": "code",
   "execution_count": 371,
   "id": "69621713-0cc5-4f1b-a1d7-bb144fa6148c",
   "metadata": {
    "id": "69621713-0cc5-4f1b-a1d7-bb144fa6148c"
   },
   "outputs": [],
   "source": [
    "# текст запроса\n",
    "query_6_3 = f'''SELECT\n",
    "                    COUNT(*)\n",
    "                FROM\n",
    "                    vacancies\n",
    "                WHERE\n",
    "                    (name ~* 'data scientist' OR \n",
    "                    name ~* 'data science' OR \n",
    "                    name ~* 'исследователь данных' OR\n",
    "                    (name ~ 'ML' AND name !~* 'HTML') OR\n",
    "                    name ~* 'machine learning' OR\n",
    "                    name ~* 'машинн.*обучен.*') -- применение условия для соответствия вакансии дата-сайентиста\n",
    "                    AND\n",
    "                    (key_skills ~* 'SQL' OR\n",
    "                    key_skills ~* 'postgres') -- соответствие условию наличия двух ключевых навыков, причем в любом месте значения поля (с учетом регистра)\n",
    "             '''"
   ]
  },
  {
   "cell_type": "code",
   "execution_count": 372,
   "id": "alA8WEAAvGdf",
   "metadata": {
    "id": "alA8WEAAvGdf"
   },
   "outputs": [
    {
     "data": {
      "text/html": [
       "<div>\n",
       "<style scoped>\n",
       "    .dataframe tbody tr th:only-of-type {\n",
       "        vertical-align: middle;\n",
       "    }\n",
       "\n",
       "    .dataframe tbody tr th {\n",
       "        vertical-align: top;\n",
       "    }\n",
       "\n",
       "    .dataframe thead th {\n",
       "        text-align: right;\n",
       "    }\n",
       "</style>\n",
       "<table border=\"1\" class=\"dataframe\">\n",
       "  <thead>\n",
       "    <tr style=\"text-align: right;\">\n",
       "      <th></th>\n",
       "      <th>count</th>\n",
       "    </tr>\n",
       "  </thead>\n",
       "  <tbody>\n",
       "    <tr>\n",
       "      <th>0</th>\n",
       "      <td>201</td>\n",
       "    </tr>\n",
       "  </tbody>\n",
       "</table>\n",
       "</div>"
      ],
      "text/plain": [
       "   count\n",
       "0    201"
      ]
     },
     "execution_count": 372,
     "metadata": {},
     "output_type": "execute_result"
    }
   ],
   "source": [
    "# результат запроса\n",
    "sql_vacancies = pd.read_sql_query(query_6_3, connection)\n",
    "sql_vacancies"
   ]
  },
  {
   "cell_type": "markdown",
   "id": "2f703a44-5fd1-4ccf-bf82-c5cf59e2c534",
   "metadata": {},
   "source": [
    "Вроде все правильно а ответ не верный"
   ]
  },
  {
   "cell_type": "markdown",
   "id": "1be1e9c6-37cf-4a5f-bfeb-04cab799dc80",
   "metadata": {
    "id": "1be1e9c6-37cf-4a5f-bfeb-04cab799dc80"
   },
   "source": [
    "4. Проверьте, насколько популярен Python в требованиях работодателей к DS.Для этого вычислите количество вакансий, в которых в качестве ключевого навыка указан Python.\n",
    "\n",
    "** Это можно сделать помощью запроса, аналогичного предыдущему.*"
   ]
  },
  {
   "cell_type": "code",
   "execution_count": 373,
   "id": "0036a355-9ccf-4564-8b01-73d8194297e7",
   "metadata": {
    "id": "0036a355-9ccf-4564-8b01-73d8194297e7"
   },
   "outputs": [],
   "source": [
    "# текст запроса\n",
    "query_6_4 = f'''SELECT\n",
    "                    COUNT(*)\n",
    "                FROM\n",
    "                    vacancies\n",
    "                WHERE\n",
    "                    (name ~* 'data scientist' OR \n",
    "                    name ~* 'data science' OR \n",
    "                    name ~* 'исследователь данных' OR\n",
    "                    (name ~ 'ML' AND name !~* 'HTML') OR\n",
    "                    name ~* 'machine learning' OR\n",
    "                    name ~* 'машинн.*обучен.*') -- применение условия для соответствия вакансии дата-сайентиста\n",
    "                    AND\n",
    "                    (key_skills ~ 'Python')-- соответствие условию наличия ключевого навыка, причем в любом месте значения поля (с учетом регистра)\n",
    "             '''"
   ]
  },
  {
   "cell_type": "code",
   "execution_count": 374,
   "id": "1i-5WyucvQ6v",
   "metadata": {
    "id": "1i-5WyucvQ6v"
   },
   "outputs": [
    {
     "data": {
      "text/html": [
       "<div>\n",
       "<style scoped>\n",
       "    .dataframe tbody tr th:only-of-type {\n",
       "        vertical-align: middle;\n",
       "    }\n",
       "\n",
       "    .dataframe tbody tr th {\n",
       "        vertical-align: top;\n",
       "    }\n",
       "\n",
       "    .dataframe thead th {\n",
       "        text-align: right;\n",
       "    }\n",
       "</style>\n",
       "<table border=\"1\" class=\"dataframe\">\n",
       "  <thead>\n",
       "    <tr style=\"text-align: right;\">\n",
       "      <th></th>\n",
       "      <th>count</th>\n",
       "    </tr>\n",
       "  </thead>\n",
       "  <tbody>\n",
       "    <tr>\n",
       "      <th>0</th>\n",
       "      <td>351</td>\n",
       "    </tr>\n",
       "  </tbody>\n",
       "</table>\n",
       "</div>"
      ],
      "text/plain": [
       "   count\n",
       "0    351"
      ]
     },
     "execution_count": 374,
     "metadata": {},
     "output_type": "execute_result"
    }
   ],
   "source": [
    "# результат запроса\n",
    "python_vacancies = pd.read_sql_query(query_6_4, connection)\n",
    "python_vacancies"
   ]
  },
  {
   "cell_type": "markdown",
   "id": "ec3c8db7-fa21-4a41-a994-1af63742a642",
   "metadata": {
    "id": "ec3c8db7-fa21-4a41-a994-1af63742a642"
   },
   "source": [
    "5. Сколько ключевых навыков в среднем указывают в вакансиях для DS?\n",
    "Ответ округлите до двух знаков после точки-разделителя."
   ]
  },
  {
   "cell_type": "code",
   "execution_count": 375,
   "id": "949132bc-d5b6-4611-8218-0b9a504d74f4",
   "metadata": {
    "id": "949132bc-d5b6-4611-8218-0b9a504d74f4"
   },
   "outputs": [],
   "source": [
    "# текст запроса\n",
    "query_6_5 = f'''SELECT\n",
    "                    ROUND(AVG(length(key_skills) - length(replace(key_skills, '\\t', '')) + 1), 2) skills -- считаем количество символов в строке и вычитаем количество символов в строке, где удалили символы разделители '\\', т.о. вычисляем количество символов разделитетелей, да + 1 (так как разделитетелей на 1 меньше чем разделяемых элементов), ну и считаем среднее с округлением до 2 знаков\n",
    "                FROM\n",
    "                    vacancies\n",
    "                WHERE\n",
    "                    name ~* 'data scientist' OR \n",
    "                    name ~* 'data science' OR \n",
    "                    name ~* 'исследователь данных' OR\n",
    "                    (name ~ 'ML' AND name !~* 'HTML') OR\n",
    "                    name ~* 'machine learning' OR\n",
    "                    name ~* 'машинн.*обучен.*' --  условие соответствия вакансии дата-сайентиста\n",
    "             '''"
   ]
  },
  {
   "cell_type": "code",
   "execution_count": 376,
   "id": "a3V24Tvmviqk",
   "metadata": {
    "id": "a3V24Tvmviqk"
   },
   "outputs": [
    {
     "data": {
      "text/html": [
       "<div>\n",
       "<style scoped>\n",
       "    .dataframe tbody tr th:only-of-type {\n",
       "        vertical-align: middle;\n",
       "    }\n",
       "\n",
       "    .dataframe tbody tr th {\n",
       "        vertical-align: top;\n",
       "    }\n",
       "\n",
       "    .dataframe thead th {\n",
       "        text-align: right;\n",
       "    }\n",
       "</style>\n",
       "<table border=\"1\" class=\"dataframe\">\n",
       "  <thead>\n",
       "    <tr style=\"text-align: right;\">\n",
       "      <th></th>\n",
       "      <th>skills</th>\n",
       "    </tr>\n",
       "  </thead>\n",
       "  <tbody>\n",
       "    <tr>\n",
       "      <th>0</th>\n",
       "      <td>6.41</td>\n",
       "    </tr>\n",
       "  </tbody>\n",
       "</table>\n",
       "</div>"
      ],
      "text/plain": [
       "   skills\n",
       "0    6.41"
      ]
     },
     "execution_count": 376,
     "metadata": {},
     "output_type": "execute_result"
    }
   ],
   "source": [
    "# результат запроса\n",
    "avg_skills = pd.read_sql_query(query_6_5, connection)\n",
    "avg_skills"
   ]
  },
  {
   "cell_type": "markdown",
   "id": "1041c17a-ca8f-4543-a0ca-32778914fb00",
   "metadata": {
    "id": "1041c17a-ca8f-4543-a0ca-32778914fb00"
   },
   "source": [
    "6. Напишите запрос, позволяющий вычислить, какую зарплату для DS в **среднем** указывают для каждого типа требуемого опыта (уникальное значение из поля *experience*). \n",
    "\n",
    "При решении задачи примите во внимание следующее:\n",
    "1. Рассматриваем только вакансии, у которых заполнено хотя бы одно из двух полей с зарплатой.\n",
    "2. Если заполнены оба поля с зарплатой, то считаем зарплату по каждой вакансии как сумму двух полей, делённую на 2. Если заполнено только одно из полей, то его и считаем зарплатой по вакансии.\n",
    "3. Если в расчётах участвует null, в результате он тоже даст null (посмотрите, что возвращает запрос select 1 + null). Чтобы избежать этой ситуацию, мы воспользуемся функцией [coalesce](https://postgrespro.ru/docs/postgresql/9.5/functions-conditional#functions-coalesce-nvl-ifnull), которая заменит null на значение, которое мы передадим. Например, посмотрите, что возвращает запрос `select 1 + coalesce(null, 0)`\n",
    "\n",
    "Выясните, на какую зарплату в среднем может рассчитывать дата-сайентист с опытом работы от 3 до 6 лет. Результат округлите до целого числа. "
   ]
  },
  {
   "cell_type": "code",
   "execution_count": 377,
   "id": "6a743d39-5204-48d3-8271-b9f88e68d40e",
   "metadata": {
    "id": "6a743d39-5204-48d3-8271-b9f88e68d40e"
   },
   "outputs": [],
   "source": [
    "# текст запроса\n",
    "query_6_6 = f'''SELECT\n",
    "                    experience,\n",
    "                    ROUND(AVG((COALESCE(salary_from, salary_to) + COALESCE(salary_to, salary_from)) / 2))::int avg_salary -- слагаемые дадут нам или две минимальных или две максимальных, ну или минимальную и максимальную зарплаты, да на 2 поделим, вот и будет или средняя или просто минимум или максимум\n",
    "                FROM\n",
    "                    vacancies\n",
    "                WHERE\n",
    "                    (name ~* 'data scientist' OR \n",
    "                    name ~* 'data science' OR \n",
    "                    name ~* 'исследователь данных' OR\n",
    "                    (name ~ 'ML' AND name !~* 'HTML') OR\n",
    "                    name ~* 'machine learning' OR\n",
    "                    name ~* 'машинн.*обучен.*') --  для вакансий именно дата-сайентистов\n",
    "                    AND\n",
    "                    (salary_from IS NOT NULL OR salary_to IS NOT NULL) -- условие наличия данных хотя бы для минимальной или максимальнной зарплаты\n",
    "                GROUP BY experience -- сгруппируем по опыту\n",
    "                ORDER BY avg_salary DESC -- сортируем по убыванию \n",
    "                '''"
   ]
  },
  {
   "cell_type": "code",
   "execution_count": 378,
   "id": "aRIJ0mZEwU1_",
   "metadata": {
    "id": "aRIJ0mZEwU1_"
   },
   "outputs": [
    {
     "data": {
      "text/html": [
       "<div>\n",
       "<style scoped>\n",
       "    .dataframe tbody tr th:only-of-type {\n",
       "        vertical-align: middle;\n",
       "    }\n",
       "\n",
       "    .dataframe tbody tr th {\n",
       "        vertical-align: top;\n",
       "    }\n",
       "\n",
       "    .dataframe thead th {\n",
       "        text-align: right;\n",
       "    }\n",
       "</style>\n",
       "<table border=\"1\" class=\"dataframe\">\n",
       "  <thead>\n",
       "    <tr style=\"text-align: right;\">\n",
       "      <th></th>\n",
       "      <th>experience</th>\n",
       "      <th>avg_salary</th>\n",
       "    </tr>\n",
       "  </thead>\n",
       "  <tbody>\n",
       "    <tr>\n",
       "      <th>0</th>\n",
       "      <td>От 3 до 6 лет</td>\n",
       "      <td>243115</td>\n",
       "    </tr>\n",
       "    <tr>\n",
       "      <th>1</th>\n",
       "      <td>От 1 года до 3 лет</td>\n",
       "      <td>139675</td>\n",
       "    </tr>\n",
       "    <tr>\n",
       "      <th>2</th>\n",
       "      <td>Нет опыта</td>\n",
       "      <td>74643</td>\n",
       "    </tr>\n",
       "  </tbody>\n",
       "</table>\n",
       "</div>"
      ],
      "text/plain": [
       "           experience  avg_salary\n",
       "0       От 3 до 6 лет      243115\n",
       "1  От 1 года до 3 лет      139675\n",
       "2           Нет опыта       74643"
      ]
     },
     "execution_count": 378,
     "metadata": {},
     "output_type": "execute_result"
    }
   ],
   "source": [
    "# результат запроса\n",
    "avg_salary = pd.read_sql_query(query_6_6, connection)\n",
    "avg_salary"
   ]
  },
  {
   "cell_type": "code",
   "execution_count": 379,
   "id": "a3b6d385-d06f-4b06-a34d-d01859916fc0",
   "metadata": {},
   "outputs": [],
   "source": [
    "# Сделаем запрос на работодателей которые ищут DS\n",
    "query_6_e = f'''SELECT \n",
    "                    e.name,\n",
    "                    COUNT(v.id) vacancies -- подсчет вакансий по их id для каждого работодателя \n",
    "                FROM \n",
    "                    vacancies v\n",
    "                    LEFT JOIN employers e ON v.employer_id = e.id -- присоединяем для получения названий \n",
    "                WHERE\n",
    "                    (v.name ~* 'data scientist' OR \n",
    "                    v.name ~* 'data science' OR \n",
    "                    v.name ~* 'исследователь данных' OR\n",
    "                    (v.name ~ 'ML' AND v.name !~* 'HTML') OR\n",
    "                    v.name ~* 'machine learning' OR\n",
    "                    v.name ~* 'машинн.*обучен.*') -- условие соответствия вакансии дата-сайентиста\n",
    "                GROUP BY e.id -- группируем по id работодателя\n",
    "                ORDER BY vacancies DESC -- сортировка по убыванию\n",
    "             '''"
   ]
  },
  {
   "cell_type": "code",
   "execution_count": 380,
   "id": "53114a2b-2271-44b0-8f39-f296c80ffe6b",
   "metadata": {},
   "outputs": [
    {
     "data": {
      "text/html": [
       "<div>\n",
       "<style scoped>\n",
       "    .dataframe tbody tr th:only-of-type {\n",
       "        vertical-align: middle;\n",
       "    }\n",
       "\n",
       "    .dataframe tbody tr th {\n",
       "        vertical-align: top;\n",
       "    }\n",
       "\n",
       "    .dataframe thead th {\n",
       "        text-align: right;\n",
       "    }\n",
       "</style>\n",
       "<table border=\"1\" class=\"dataframe\">\n",
       "  <thead>\n",
       "    <tr style=\"text-align: right;\">\n",
       "      <th></th>\n",
       "      <th>name</th>\n",
       "      <th>vacancies</th>\n",
       "    </tr>\n",
       "  </thead>\n",
       "  <tbody>\n",
       "    <tr>\n",
       "      <th>0</th>\n",
       "      <td>СБЕР</td>\n",
       "      <td>37</td>\n",
       "    </tr>\n",
       "    <tr>\n",
       "      <th>1</th>\n",
       "      <td>Bell Integrator</td>\n",
       "      <td>25</td>\n",
       "    </tr>\n",
       "    <tr>\n",
       "      <th>2</th>\n",
       "      <td>Банк ВТБ (ПАО)</td>\n",
       "      <td>18</td>\n",
       "    </tr>\n",
       "    <tr>\n",
       "      <th>3</th>\n",
       "      <td>VK</td>\n",
       "      <td>15</td>\n",
       "    </tr>\n",
       "    <tr>\n",
       "      <th>4</th>\n",
       "      <td>Positive Technologies</td>\n",
       "      <td>11</td>\n",
       "    </tr>\n",
       "    <tr>\n",
       "      <th>5</th>\n",
       "      <td>Яндекс</td>\n",
       "      <td>9</td>\n",
       "    </tr>\n",
       "    <tr>\n",
       "      <th>6</th>\n",
       "      <td>EvenBet Gaming</td>\n",
       "      <td>9</td>\n",
       "    </tr>\n",
       "    <tr>\n",
       "      <th>7</th>\n",
       "      <td>МегаФон</td>\n",
       "      <td>8</td>\n",
       "    </tr>\n",
       "    <tr>\n",
       "      <th>8</th>\n",
       "      <td>Andersen</td>\n",
       "      <td>7</td>\n",
       "    </tr>\n",
       "    <tr>\n",
       "      <th>9</th>\n",
       "      <td>Ozon</td>\n",
       "      <td>6</td>\n",
       "    </tr>\n",
       "  </tbody>\n",
       "</table>\n",
       "</div>"
      ],
      "text/plain": [
       "                    name  vacancies\n",
       "0                   СБЕР         37\n",
       "1        Bell Integrator         25\n",
       "2         Банк ВТБ (ПАО)         18\n",
       "3                     VK         15\n",
       "4  Positive Technologies         11\n",
       "5                 Яндекс          9\n",
       "6         EvenBet Gaming          9\n",
       "7                МегаФон          8\n",
       "8               Andersen          7\n",
       "9                   Ozon          6"
      ]
     },
     "execution_count": 380,
     "metadata": {},
     "output_type": "execute_result"
    }
   ],
   "source": [
    "# результат запроса\n",
    "employers_ds = pd.read_sql_query(query_6_e, connection)\n",
    "employers_ds.head(10)"
   ]
  },
  {
   "cell_type": "markdown",
   "id": "6a7892b4-4113-4746-adce-18aa2844f18e",
   "metadata": {
    "id": "6a7892b4-4113-4746-adce-18aa2844f18e"
   },
   "source": [
    "***"
   ]
  },
  {
   "cell_type": "markdown",
   "id": "ca2ecf28-abd1-4399-ba27-7e9a4ee90127",
   "metadata": {
    "id": "UjLWUptVwY1o"
   },
   "source": [
    "выводы по предметному анализу\n",
    "-  1771 вакансий имеет отношение к данным. То есть 3.6 % от всего количества.\n",
    "-  вакансий для джунов очень мало, это значит что есть проблема огромной конкуренции.\n",
    "-  но если ты владеешь дополнительными языками (SQL или postgres) то уже вакансиий будет больше на рассмотрение. чем больше знаешь тем ты более востребовательнее\n",
    "-  среди работодателей которые ищут DS оказался на первом месте сбербанк "
   ]
  },
  {
   "cell_type": "markdown",
   "id": "c0ED6fh7wiBT",
   "metadata": {
    "id": "c0ED6fh7wiBT"
   },
   "source": [
    "# Общий вывод по проекту"
   ]
  },
  {
   "cell_type": "markdown",
   "id": "e4192bec-52bd-4736-971d-5688454da33f",
   "metadata": {},
   "source": [
    "Анализ всех вакансий:\n",
    "- общее количество вакансий 49197, общее количество работодателей 23501, а вот с вакансиями только 14906. Т.о. среднее количество вакансий у работодателя: 3.3 (рассматриваем работодателей с вакансиями).\n",
    "- распределение вакансий по регионам, прямо коррелирует с «масштабом региона». В первую сотню по количеству вакансий входят административные центры субъектов Российской Федерации, крупнейшие города помимо них, а также столицы и крупные города стран СНГ. Так на долю Москвы приходится почти 11 % от общего количества вакансий, доля Санкт-Петербурга почти 6 %. На третьем месте Минск с более, чем 4 %.\n",
    "- более половины вакансий - 51 %, не имеют каких-либо указаний на предлагаемую заработную плату, не минимума ни максимума. В 21 % имеется полная информация о предложении работодателя по зарплате. В отношении только минимума определились в 23 % вакансий, а максимума в 5 % вакансий. Средние значения для нижней и верхней границы зарплатной вилки составляют 71 и 110 тыс. рублей, соответственно. Минимум нижней и верхней границ предлагаемой зарплаты определить не просто, т.к. очевидно, что в минимальных значениях пропущены нули или разряд \"тысячи\". Исходя из здравого смысла следует ориентироваться на минимальные значения от 15 - 20 тыс. рублей. Максимум указан для обеих границ один – 1000000 руб. Визуализация показывает, что основная часть вакансий имеет зарплатную вилку в пределах от 10 до 100 тыс. руб. Еще до 200 тыс. руб. и далее до 300 тыс. руб. наблюдается небольшая резко уменьшающаяся доля вакансий. Далее редкие отдельные «пеньки» от нескольких до единичных вакансий.\n",
    "- более 80 % вакансий предполагают личное присутствие на рабочем месте (полный день, сменный и гибкий график), на долю удаленной работы приходится около 19 %. Вахтовый метод примерно 0.8 %. Относительно формата занятости: более 93 % вакансий предполагают полную занятость. Частичная занятость и стажировка - всего чуть больше 4 и полутра процентов, соответственно. Проектная работа, менее 1 %.\n",
    "- требуемый опыт работы указан в подавляющем количестве вакансий - более 85 %. При этом половина устанавливает опыт от 1 до 3 лет, почти 30 % от 3 до 6 лет и 2.7 % - больше 6 лет опыта. Опыт прямо связан зарплатными предложениями, при росте опыта растет предлагаемая зарплата.\n",
    "- если посмотреть количество регионов для каждого работодателя, в которых он публикует свои вакансии, то мы видим корреляцию с количеством вакансий у работодателей, т.е. при росте числа вакансий растет число регионов публикации.\n",
    "- почти 8.5 тыс. работодателей не указали сферы деятельности в которых они предлагают работу, это без малого 36 %.\n",
    "- связь между количеством ключевых навыков и зарплатой отсутствует. Ключевых навыков указано от 1 до 30. При этом в 17.2 % вакансий ключевые навыки не указаны.\n",
    "\n",
    "Анализ вакансий, связанных с «Data Science»:\n",
    "- 1771 вакансия имеет отношение к данным (в названии присутствуют или «data» или «данн»), то есть 3.6 % от всего количества вакансий. Если говорить о вакансиях для дата-сайентистов (исходя из перечня указанных условий для названий), то таковых 480 или чуть меньше 1 %.\n",
    "- всего в 51 вакансии указан уровень Junior, это 10.6 % от всех вакансий, для дата-сайентистов.\n",
    "- SQL или postgres в качестве ключевых навыков указаны в 201 вакансии для дата-сайентистов). Python популяренее – присутствует в 351 вакансии, что составляет 73 % всех вакансий для дата-сайентистов.\n",
    "- 6.41 среднее количество ключевых навыков в вакансиях для дата-сайентистов.\n",
    "\n",
    "    Выводы:\n",
    "Специальность «Data Science» достаточно редко востребована в общем количестве вакансий ИТ сферы. Вакансии предлагаются скорее крупными компаниями (банки и иные финансовые компании, телекоммуникационные корпорации, интернет-гиганты торговой, социально-сетевой, игровой и т.п. направленности, торговые гиганты и т.п.), крупные промышленные компании и научные учреждения. Востребованы специалисты с опытом, с набором определенных ключевых навыков. Вакансии предлагаются в крупных городах, Москве, СПб. Возможная удаленная работа. Заработная плата в целом в два – три раза выше, чем в среднем для ИТ сферы. И зависит в первую очередь от опыта.ию"
   ]
  },
  {
   "cell_type": "markdown",
   "id": "88cfdbd6-64fb-4305-8dd9-5b8b90bb4815",
   "metadata": {
    "id": "h9B3BL-wwj18"
   },
   "source": [
    "# Дополнительные исследования"
   ]
  },
  {
   "cell_type": "markdown",
   "id": "d95181fc-7756-43ad-960d-bcbf77327d62",
   "metadata": {},
   "source": [
    "Получим информацию о сбербанке:\n",
    "- из какого региона этот работодатель,\n",
    "- в каких сферах деятельности он предлагает вакансии,\n",
    "- в каких регионах предлагаются вакансии,\n",
    "- какие именно вакансии (название, график, оплата, регион вакансии и т.д.)."
   ]
  },
  {
   "cell_type": "code",
   "execution_count": 388,
   "id": "003b8330-51fe-44dc-873c-da0b7d8c5066",
   "metadata": {},
   "outputs": [],
   "source": [
    "# текст запроса\n",
    "SBER_1 = f'''SELECT \n",
    "                    e.id id_eployer,\n",
    "                    e.name,\n",
    "                    a.name area\n",
    "                FROM \n",
    "                    employers e\n",
    "                    JOIN areas a ON e.area = a.id -- присоединяем только для имени региона\n",
    "                WHERE \n",
    "                    e.id = 3529 -- мы знаем, что это id СБЕРБАНК\n",
    "             '''"
   ]
  },
  {
   "cell_type": "code",
   "execution_count": 387,
   "id": "989f63a7-07e0-4e9f-9ed4-b79eafb3b1af",
   "metadata": {},
   "outputs": [
    {
     "data": {
      "text/html": [
       "<div>\n",
       "<style scoped>\n",
       "    .dataframe tbody tr th:only-of-type {\n",
       "        vertical-align: middle;\n",
       "    }\n",
       "\n",
       "    .dataframe tbody tr th {\n",
       "        vertical-align: top;\n",
       "    }\n",
       "\n",
       "    .dataframe thead th {\n",
       "        text-align: right;\n",
       "    }\n",
       "</style>\n",
       "<table border=\"1\" class=\"dataframe\">\n",
       "  <thead>\n",
       "    <tr style=\"text-align: right;\">\n",
       "      <th></th>\n",
       "      <th>id_eployer</th>\n",
       "      <th>name</th>\n",
       "      <th>area</th>\n",
       "    </tr>\n",
       "  </thead>\n",
       "  <tbody>\n",
       "    <tr>\n",
       "      <th>0</th>\n",
       "      <td>3529</td>\n",
       "      <td>СБЕР</td>\n",
       "      <td>Москва</td>\n",
       "    </tr>\n",
       "  </tbody>\n",
       "</table>\n",
       "</div>"
      ],
      "text/plain": [
       "   id_eployer  name    area\n",
       "0        3529  СБЕР  Москва"
      ]
     },
     "execution_count": 387,
     "metadata": {},
     "output_type": "execute_result"
    }
   ],
   "source": [
    "# результат запроса\n",
    "sber = pd.read_sql_query(SBER_1, connection)\n",
    "sber"
   ]
  },
  {
   "cell_type": "code",
   "execution_count": 399,
   "id": "c75e4e86-af21-40ea-a771-b8d5328989a0",
   "metadata": {},
   "outputs": [],
   "source": [
    "# текст запроса\n",
    "SBER_2 = f'''SELECT \n",
    "                    COUNT(*) industries\n",
    "                FROM \n",
    "                    employers_industries e_i\n",
    "                    LEFT JOIN industries i ON e_i.industry_id = i.id -- присоединяем для вывода названий сфер деятельности\n",
    "                WHERE \n",
    "                    e_i.employer_id = 3529 -- id СБЕР\n",
    "             '''"
   ]
  },
  {
   "cell_type": "code",
   "execution_count": 394,
   "id": "47e22cd5-3761-401b-a611-d9cd8bd81073",
   "metadata": {},
   "outputs": [
    {
     "data": {
      "text/html": [
       "<div>\n",
       "<style scoped>\n",
       "    .dataframe tbody tr th:only-of-type {\n",
       "        vertical-align: middle;\n",
       "    }\n",
       "\n",
       "    .dataframe tbody tr th {\n",
       "        vertical-align: top;\n",
       "    }\n",
       "\n",
       "    .dataframe thead th {\n",
       "        text-align: right;\n",
       "    }\n",
       "</style>\n",
       "<table border=\"1\" class=\"dataframe\">\n",
       "  <thead>\n",
       "    <tr style=\"text-align: right;\">\n",
       "      <th></th>\n",
       "      <th>industries</th>\n",
       "    </tr>\n",
       "  </thead>\n",
       "  <tbody>\n",
       "    <tr>\n",
       "      <th>0</th>\n",
       "      <td>1</td>\n",
       "    </tr>\n",
       "  </tbody>\n",
       "</table>\n",
       "</div>"
      ],
      "text/plain": [
       "   industries\n",
       "0           1"
      ]
     },
     "execution_count": 394,
     "metadata": {},
     "output_type": "execute_result"
    }
   ],
   "source": [
    "sber_industries = pd.read_sql_query(SBER_2, connection)\n",
    "sber_industries"
   ]
  },
  {
   "cell_type": "code",
   "execution_count": 391,
   "id": "a22e47b3-f093-4186-a58f-21b678513f63",
   "metadata": {},
   "outputs": [],
   "source": [
    "SBER_3 = f'''SELECT \n",
    "                    a.name area_vacancy,\n",
    "                    COUNT(*) quantity\n",
    "                FROM \n",
    "                    vacancies v\n",
    "                    LEFT JOIN areas a ON v.area_id = a.id -- добавляем названия регионов\n",
    "                WHERE \n",
    "                    v.employer_id = 3529 \n",
    "                GROUP BY a.name -- сгруппируем по названию региона\n",
    "                ORDER BY quantity DESC, area_vacancy -- отсортируем по количеству вакансий, ни и по названию региона по алфавиту \n",
    "             '''"
   ]
  },
  {
   "cell_type": "code",
   "execution_count": 395,
   "id": "152e80a2-7cb0-43e5-aae6-d172b411af3f",
   "metadata": {},
   "outputs": [
    {
     "data": {
      "text/html": [
       "<div>\n",
       "<style scoped>\n",
       "    .dataframe tbody tr th:only-of-type {\n",
       "        vertical-align: middle;\n",
       "    }\n",
       "\n",
       "    .dataframe tbody tr th {\n",
       "        vertical-align: top;\n",
       "    }\n",
       "\n",
       "    .dataframe thead th {\n",
       "        text-align: right;\n",
       "    }\n",
       "</style>\n",
       "<table border=\"1\" class=\"dataframe\">\n",
       "  <thead>\n",
       "    <tr style=\"text-align: right;\">\n",
       "      <th></th>\n",
       "      <th>area_vacancy</th>\n",
       "      <th>quantity</th>\n",
       "    </tr>\n",
       "  </thead>\n",
       "  <tbody>\n",
       "    <tr>\n",
       "      <th>0</th>\n",
       "      <td>Москва</td>\n",
       "      <td>205</td>\n",
       "    </tr>\n",
       "    <tr>\n",
       "      <th>1</th>\n",
       "      <td>Нижний Новгород</td>\n",
       "      <td>30</td>\n",
       "    </tr>\n",
       "    <tr>\n",
       "      <th>2</th>\n",
       "      <td>Новосибирск</td>\n",
       "      <td>30</td>\n",
       "    </tr>\n",
       "    <tr>\n",
       "      <th>3</th>\n",
       "      <td>Самара</td>\n",
       "      <td>29</td>\n",
       "    </tr>\n",
       "    <tr>\n",
       "      <th>4</th>\n",
       "      <td>Екатеринбург</td>\n",
       "      <td>22</td>\n",
       "    </tr>\n",
       "    <tr>\n",
       "      <th>5</th>\n",
       "      <td>Санкт-Петербург</td>\n",
       "      <td>20</td>\n",
       "    </tr>\n",
       "    <tr>\n",
       "      <th>6</th>\n",
       "      <td>Иннополис</td>\n",
       "      <td>19</td>\n",
       "    </tr>\n",
       "    <tr>\n",
       "      <th>7</th>\n",
       "      <td>Рязань</td>\n",
       "      <td>14</td>\n",
       "    </tr>\n",
       "    <tr>\n",
       "      <th>8</th>\n",
       "      <td>Ростов-на-Дону</td>\n",
       "      <td>11</td>\n",
       "    </tr>\n",
       "    <tr>\n",
       "      <th>9</th>\n",
       "      <td>Хабаровск</td>\n",
       "      <td>11</td>\n",
       "    </tr>\n",
       "    <tr>\n",
       "      <th>10</th>\n",
       "      <td>Воронеж</td>\n",
       "      <td>7</td>\n",
       "    </tr>\n",
       "    <tr>\n",
       "      <th>11</th>\n",
       "      <td>Омск</td>\n",
       "      <td>7</td>\n",
       "    </tr>\n",
       "    <tr>\n",
       "      <th>12</th>\n",
       "      <td>Брянск</td>\n",
       "      <td>5</td>\n",
       "    </tr>\n",
       "    <tr>\n",
       "      <th>13</th>\n",
       "      <td>Владивосток</td>\n",
       "      <td>4</td>\n",
       "    </tr>\n",
       "    <tr>\n",
       "      <th>14</th>\n",
       "      <td>Тула</td>\n",
       "      <td>4</td>\n",
       "    </tr>\n",
       "    <tr>\n",
       "      <th>15</th>\n",
       "      <td>Барнаул</td>\n",
       "      <td>2</td>\n",
       "    </tr>\n",
       "    <tr>\n",
       "      <th>16</th>\n",
       "      <td>Абакан</td>\n",
       "      <td>1</td>\n",
       "    </tr>\n",
       "    <tr>\n",
       "      <th>17</th>\n",
       "      <td>Калуга</td>\n",
       "      <td>1</td>\n",
       "    </tr>\n",
       "    <tr>\n",
       "      <th>18</th>\n",
       "      <td>Красноярск</td>\n",
       "      <td>1</td>\n",
       "    </tr>\n",
       "    <tr>\n",
       "      <th>19</th>\n",
       "      <td>Пермь</td>\n",
       "      <td>1</td>\n",
       "    </tr>\n",
       "    <tr>\n",
       "      <th>20</th>\n",
       "      <td>Смоленск</td>\n",
       "      <td>1</td>\n",
       "    </tr>\n",
       "    <tr>\n",
       "      <th>21</th>\n",
       "      <td>Тольятти</td>\n",
       "      <td>1</td>\n",
       "    </tr>\n",
       "    <tr>\n",
       "      <th>22</th>\n",
       "      <td>Тюмень</td>\n",
       "      <td>1</td>\n",
       "    </tr>\n",
       "    <tr>\n",
       "      <th>23</th>\n",
       "      <td>Челябинск</td>\n",
       "      <td>1</td>\n",
       "    </tr>\n",
       "  </tbody>\n",
       "</table>\n",
       "</div>"
      ],
      "text/plain": [
       "       area_vacancy  quantity\n",
       "0            Москва       205\n",
       "1   Нижний Новгород        30\n",
       "2       Новосибирск        30\n",
       "3            Самара        29\n",
       "4      Екатеринбург        22\n",
       "5   Санкт-Петербург        20\n",
       "6         Иннополис        19\n",
       "7            Рязань        14\n",
       "8    Ростов-на-Дону        11\n",
       "9         Хабаровск        11\n",
       "10          Воронеж         7\n",
       "11             Омск         7\n",
       "12           Брянск         5\n",
       "13      Владивосток         4\n",
       "14             Тула         4\n",
       "15          Барнаул         2\n",
       "16           Абакан         1\n",
       "17           Калуга         1\n",
       "18       Красноярск         1\n",
       "19            Пермь         1\n",
       "20         Смоленск         1\n",
       "21         Тольятти         1\n",
       "22           Тюмень         1\n",
       "23        Челябинск         1"
      ]
     },
     "execution_count": 395,
     "metadata": {},
     "output_type": "execute_result"
    }
   ],
   "source": [
    "sber_areas = pd.read_sql_query(SBER_3, connection)\n",
    "sber_areas"
   ]
  },
  {
   "cell_type": "code",
   "execution_count": 396,
   "id": "94db517b-be62-4f27-bf86-4dbc75da57ab",
   "metadata": {},
   "outputs": [],
   "source": [
    "# текст запроса\n",
    "SBER_4 = f'''SELECT \n",
    "                    v.name,\n",
    "                    v.key_skills,\n",
    "                    v.schedule,\n",
    "                    v.experience,\n",
    "                    v.employment,\n",
    "                    v.salary_from,\n",
    "                    v.salary_to,\n",
    "                    a.name area_vacancy\n",
    "                FROM \n",
    "                    vacancies v\n",
    "                    LEFT JOIN areas a ON v.area_id = a.id -- просто добавляем нормальное название региона вакансии\n",
    "                WHERE \n",
    "                    v.employer_id = 3529 \n",
    "                ORDER BY  v.salary_from DESC, v.salary_to DESC -- тут можно по-всякому сортировать и выводить по кусочкам, для удобства анализа\n",
    "             '''"
   ]
  },
  {
   "cell_type": "code",
   "execution_count": 397,
   "id": "c242b813-d004-428c-9245-d6b8204347c8",
   "metadata": {},
   "outputs": [
    {
     "data": {
      "text/html": [
       "<div>\n",
       "<style scoped>\n",
       "    .dataframe tbody tr th:only-of-type {\n",
       "        vertical-align: middle;\n",
       "    }\n",
       "\n",
       "    .dataframe tbody tr th {\n",
       "        vertical-align: top;\n",
       "    }\n",
       "\n",
       "    .dataframe thead th {\n",
       "        text-align: right;\n",
       "    }\n",
       "</style>\n",
       "<table border=\"1\" class=\"dataframe\">\n",
       "  <thead>\n",
       "    <tr style=\"text-align: right;\">\n",
       "      <th></th>\n",
       "      <th>name</th>\n",
       "      <th>key_skills</th>\n",
       "      <th>schedule</th>\n",
       "      <th>experience</th>\n",
       "      <th>employment</th>\n",
       "      <th>salary_from</th>\n",
       "      <th>salary_to</th>\n",
       "      <th>area_vacancy</th>\n",
       "    </tr>\n",
       "  </thead>\n",
       "  <tbody>\n",
       "    <tr>\n",
       "      <th>0</th>\n",
       "      <td>Системный аналитик DWH</td>\n",
       "      <td>Atlassian Jira\\tAtlassian Confluence\\tSQL\\tScr...</td>\n",
       "      <td>Полный день</td>\n",
       "      <td>От 1 года до 3 лет</td>\n",
       "      <td>Полная занятость</td>\n",
       "      <td>NaN</td>\n",
       "      <td>NaN</td>\n",
       "      <td>Москва</td>\n",
       "    </tr>\n",
       "    <tr>\n",
       "      <th>1</th>\n",
       "      <td>Стажер Data Engineer/Data Аналитик в команду Б...</td>\n",
       "      <td>Python\\tSQL\\tMS PowerPoint</td>\n",
       "      <td>Полный день</td>\n",
       "      <td>Нет опыта</td>\n",
       "      <td>Стажировка</td>\n",
       "      <td>NaN</td>\n",
       "      <td>NaN</td>\n",
       "      <td>Москва</td>\n",
       "    </tr>\n",
       "    <tr>\n",
       "      <th>2</th>\n",
       "      <td>Junior Java-разработчик</td>\n",
       "      <td>None</td>\n",
       "      <td>Полный день</td>\n",
       "      <td>От 1 года до 3 лет</td>\n",
       "      <td>Полная занятость</td>\n",
       "      <td>NaN</td>\n",
       "      <td>NaN</td>\n",
       "      <td>Москва</td>\n",
       "    </tr>\n",
       "    <tr>\n",
       "      <th>3</th>\n",
       "      <td>Java-разработчик</td>\n",
       "      <td>None</td>\n",
       "      <td>Полный день</td>\n",
       "      <td>От 3 до 6 лет</td>\n",
       "      <td>Полная занятость</td>\n",
       "      <td>NaN</td>\n",
       "      <td>NaN</td>\n",
       "      <td>Ростов-на-Дону</td>\n",
       "    </tr>\n",
       "    <tr>\n",
       "      <th>4</th>\n",
       "      <td>Старший инженер технической поддержки автомати...</td>\n",
       "      <td>Linux\\tОбучение и развитие\\tMac Os\\tАвтоматизи...</td>\n",
       "      <td>Полный день</td>\n",
       "      <td>От 1 года до 3 лет</td>\n",
       "      <td>Полная занятость</td>\n",
       "      <td>NaN</td>\n",
       "      <td>NaN</td>\n",
       "      <td>Самара</td>\n",
       "    </tr>\n",
       "    <tr>\n",
       "      <th>...</th>\n",
       "      <td>...</td>\n",
       "      <td>...</td>\n",
       "      <td>...</td>\n",
       "      <td>...</td>\n",
       "      <td>...</td>\n",
       "      <td>...</td>\n",
       "      <td>...</td>\n",
       "      <td>...</td>\n",
       "    </tr>\n",
       "    <tr>\n",
       "      <th>423</th>\n",
       "      <td>JavaScript Junior Сценарист/разработчик</td>\n",
       "      <td>JavaScript</td>\n",
       "      <td>Полный день</td>\n",
       "      <td>Нет опыта</td>\n",
       "      <td>Полная занятость</td>\n",
       "      <td>60000.0</td>\n",
       "      <td>NaN</td>\n",
       "      <td>Омск</td>\n",
       "    </tr>\n",
       "    <tr>\n",
       "      <th>424</th>\n",
       "      <td>Специалист по технической поддержке продуктов ...</td>\n",
       "      <td>None</td>\n",
       "      <td>Полный день</td>\n",
       "      <td>Нет опыта</td>\n",
       "      <td>Полная занятость</td>\n",
       "      <td>50000.0</td>\n",
       "      <td>NaN</td>\n",
       "      <td>Абакан</td>\n",
       "    </tr>\n",
       "    <tr>\n",
       "      <th>425</th>\n",
       "      <td>Специалист технической поддержки</td>\n",
       "      <td>None</td>\n",
       "      <td>Гибкий график</td>\n",
       "      <td>От 1 года до 3 лет</td>\n",
       "      <td>Полная занятость</td>\n",
       "      <td>43600.0</td>\n",
       "      <td>NaN</td>\n",
       "      <td>Тольятти</td>\n",
       "    </tr>\n",
       "    <tr>\n",
       "      <th>426</th>\n",
       "      <td>Аналитик данных (старший аудитор)</td>\n",
       "      <td>None</td>\n",
       "      <td>Полный день</td>\n",
       "      <td>От 1 года до 3 лет</td>\n",
       "      <td>Полная занятость</td>\n",
       "      <td>40800.0</td>\n",
       "      <td>NaN</td>\n",
       "      <td>Нижний Новгород</td>\n",
       "    </tr>\n",
       "    <tr>\n",
       "      <th>427</th>\n",
       "      <td>Сотрудник линии поддержки в Сервисный Центр Архив</td>\n",
       "      <td>None</td>\n",
       "      <td>Полный день</td>\n",
       "      <td>От 1 года до 3 лет</td>\n",
       "      <td>Полная занятость</td>\n",
       "      <td>38000.0</td>\n",
       "      <td>NaN</td>\n",
       "      <td>Нижний Новгород</td>\n",
       "    </tr>\n",
       "  </tbody>\n",
       "</table>\n",
       "<p>428 rows × 8 columns</p>\n",
       "</div>"
      ],
      "text/plain": [
       "                                                  name  \\\n",
       "0                               Системный аналитик DWH   \n",
       "1    Стажер Data Engineer/Data Аналитик в команду Б...   \n",
       "2                              Junior Java-разработчик   \n",
       "3                                     Java-разработчик   \n",
       "4    Старший инженер технической поддержки автомати...   \n",
       "..                                                 ...   \n",
       "423            JavaScript Junior Сценарист/разработчик   \n",
       "424  Специалист по технической поддержке продуктов ...   \n",
       "425                   Специалист технической поддержки   \n",
       "426                  Аналитик данных (старший аудитор)   \n",
       "427  Сотрудник линии поддержки в Сервисный Центр Архив   \n",
       "\n",
       "                                            key_skills       schedule  \\\n",
       "0    Atlassian Jira\\tAtlassian Confluence\\tSQL\\tScr...    Полный день   \n",
       "1                           Python\\tSQL\\tMS PowerPoint    Полный день   \n",
       "2                                                 None    Полный день   \n",
       "3                                                 None    Полный день   \n",
       "4    Linux\\tОбучение и развитие\\tMac Os\\tАвтоматизи...    Полный день   \n",
       "..                                                 ...            ...   \n",
       "423                                         JavaScript    Полный день   \n",
       "424                                               None    Полный день   \n",
       "425                                               None  Гибкий график   \n",
       "426                                               None    Полный день   \n",
       "427                                               None    Полный день   \n",
       "\n",
       "             experience        employment  salary_from  salary_to  \\\n",
       "0    От 1 года до 3 лет  Полная занятость          NaN        NaN   \n",
       "1             Нет опыта        Стажировка          NaN        NaN   \n",
       "2    От 1 года до 3 лет  Полная занятость          NaN        NaN   \n",
       "3         От 3 до 6 лет  Полная занятость          NaN        NaN   \n",
       "4    От 1 года до 3 лет  Полная занятость          NaN        NaN   \n",
       "..                  ...               ...          ...        ...   \n",
       "423           Нет опыта  Полная занятость      60000.0        NaN   \n",
       "424           Нет опыта  Полная занятость      50000.0        NaN   \n",
       "425  От 1 года до 3 лет  Полная занятость      43600.0        NaN   \n",
       "426  От 1 года до 3 лет  Полная занятость      40800.0        NaN   \n",
       "427  От 1 года до 3 лет  Полная занятость      38000.0        NaN   \n",
       "\n",
       "        area_vacancy  \n",
       "0             Москва  \n",
       "1             Москва  \n",
       "2             Москва  \n",
       "3     Ростов-на-Дону  \n",
       "4             Самара  \n",
       "..               ...  \n",
       "423             Омск  \n",
       "424           Абакан  \n",
       "425         Тольятти  \n",
       "426  Нижний Новгород  \n",
       "427  Нижний Новгород  \n",
       "\n",
       "[428 rows x 8 columns]"
      ]
     },
     "execution_count": 397,
     "metadata": {},
     "output_type": "execute_result"
    }
   ],
   "source": [
    "sber_vacancies = pd.read_sql_query(SBER_4, connection)\n",
    "sber_vacancies"
   ]
  },
  {
   "cell_type": "markdown",
   "id": "260b2633-54ff-491c-b5f8-3f80f5632dbc",
   "metadata": {},
   "source": [
    "выводы.\n",
    "- Сбер как ему и положено находится в Москве.\n",
    "- сфера как и предпологалась чистый финтех\n",
    "- а вот регионов како то маловато , Россия ведь большая, ну и как всегда вся работа находиться в Москве.\n",
    "- всего вакансий у сбера 428\n",
    " "
   ]
  },
  {
   "cell_type": "code",
   "execution_count": 398,
   "id": "90a9d9e1-7fdd-49c5-8d4a-fcabbd7dc0c3",
   "metadata": {},
   "outputs": [],
   "source": [
    "# The end...\n",
    "connection.close()"
   ]
  }
 ],
 "metadata": {
  "colab": {
   "collapsed_sections": [
    "8d62a9f3-f64e-4fe7-bdac-c4dffa16155e"
   ],
   "provenance": []
  },
  "kernelspec": {
   "display_name": "Python 3 (ipykernel)",
   "language": "python",
   "name": "python3"
  },
  "language_info": {
   "codemirror_mode": {
    "name": "ipython",
    "version": 3
   },
   "file_extension": ".py",
   "mimetype": "text/x-python",
   "name": "python",
   "nbconvert_exporter": "python",
   "pygments_lexer": "ipython3",
   "version": "3.11.3"
  }
 },
 "nbformat": 4,
 "nbformat_minor": 5
}
